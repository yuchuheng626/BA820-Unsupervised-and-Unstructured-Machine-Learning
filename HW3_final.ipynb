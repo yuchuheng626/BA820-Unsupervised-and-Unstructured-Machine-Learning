{
  "cells": [
    {
      "cell_type": "markdown",
      "metadata": {
        "id": "1ozalcZj6GnO"
      },
      "source": [
        "# BA 820 Homework 3 (100 Points)\n",
        "\n",
        "Group Member Names: Chuheng(Kevin) Yu, Yuhan Wang, Linting(Linsey) Wang, Sixuan(Wilson) Wang, Tyler Christoforo\n",
        "\n",
        "Reminder: you should not be sharing code across groups\n",
        "\n",
        "Please submit 1) PDF answers and 2) python notebook. Grading will be based on the homework answer write up PDF. Python notebook is for reference and back up only. So please make sure that your all the outputs and answers are clearly visible in the pdf.\n",
        "\n",
        "## 1 Latent Dirichlet Allocation [60pts]\n",
        "\n",
        "In this problem, we will use Latent Dirichlet Allocation to perform topic modeling on Amazon Review datasets. In particular, we will take an in-depth look at different aspects of LDA model.\n",
        "\n",
        "## 1.1 Installation\n",
        "\n",
        "To perform LDA and visualize, please use Python 3.X. You will also need to install Numpy, Scipy, gensim, nltk, pyLDAvis library. Refer to requirements.txt for more details.\n",
        "Use the following code to install the labraries."
      ]
    },
    {
      "cell_type": "markdown",
      "metadata": {
        "id": "QFDfBgMF6Rsu"
      },
      "source": [
        "The cell below tests if the packages we need have been installed correctly, and that we are in the correct environment."
      ]
    },
    {
      "cell_type": "code",
      "execution_count": null,
      "metadata": {
        "ExecuteTime": {
          "end_time": "2023-02-27T00:50:50.904606Z",
          "start_time": "2023-02-27T00:50:49.577683Z"
        },
        "id": "9iRwy_ck6SLL",
        "outputId": "353b91bc-9258-4b08-8aa2-7ef31a640ab9"
      },
      "outputs": [
        {
          "name": "stderr",
          "output_type": "stream",
          "text": [
            "/Users/wangsixuan/opt/anaconda3/lib/python3.8/site-packages/ipykernel/ipkernel.py:287: DeprecationWarning: `should_run_async` will not call `transform_cell` automatically in the future. Please pass the result to `transformed_cell` argument and any exception that happen during thetransform in `preprocessing_exc_tuple` in IPython 7.17 and above.\n",
            "  and should_run_async(code)\n",
            "[nltk_data] Downloading package stopwords to\n",
            "[nltk_data]     /Users/wangsixuan/nltk_data...\n",
            "[nltk_data]   Package stopwords is already up-to-date!\n"
          ]
        }
      ],
      "source": [
        "import gensim\n",
        "import nltk\n",
        "nltk.download(\"stopwords\")\n",
        "import pyLDAvis\n",
        "import matplotlib\n",
        "%matplotlib inline\n",
        "import gzip # to unzip the data\n",
        "import re # to replace punctuations\n",
        "from nltk.corpus import stopwords # list of stopwords"
      ]
    },
    {
      "cell_type": "markdown",
      "metadata": {
        "id": "aLu3zAuv6m0r"
      },
      "source": [
        "## 1.2 Datasets\n",
        "\n",
        "You can download the Amazon reviews dataset of Cellphones & Accessory 5-Core Data [here](http://snap.stanford.edu/data/amazon/productGraph/categoryFiles/reviews_Cell_Phones_and_Accessories_5.json.gz). Place the downloaded dataset in the same folder as this notebook. You can use the following code to read a datat from GZIp file"
      ]
    },
    {
      "cell_type": "code",
      "execution_count": null,
      "metadata": {
        "ExecuteTime": {
          "end_time": "2023-02-27T00:52:00.906547Z",
          "start_time": "2023-02-27T00:52:00.899966Z"
        },
        "id": "gbSEVGKw6nV7",
        "outputId": "adf91040-981e-44a0-b48a-c44f17a38c7a"
      },
      "outputs": [
        {
          "name": "stderr",
          "output_type": "stream",
          "text": [
            "/Users/wangsixuan/opt/anaconda3/lib/python3.8/site-packages/ipykernel/ipkernel.py:287: DeprecationWarning: `should_run_async` will not call `transform_cell` automatically in the future. Please pass the result to `transformed_cell` argument and any exception that happen during thetransform in `preprocessing_exc_tuple` in IPython 7.17 and above.\n",
            "  and should_run_async(code)\n"
          ]
        }
      ],
      "source": [
        "# A function to read the zipped data at a specfic path\n",
        "#\n",
        "# How to use:\n",
        "# PATH = \"/path/to/file\"\n",
        "# for line in parse(PATH):\n",
        "#   do something with line\n",
        "#\n",
        "def parse(path):\n",
        "    g = gzip.open(path, 'r')\n",
        "    for l in g:\n",
        "        yield eval(l)"
      ]
    },
    {
      "cell_type": "markdown",
      "metadata": {
        "id": "B48OODRf70mY"
      },
      "source": [
        "## 1.3 Data Cleaning\n",
        "\n",
        "Now we will preprocess the data using the following steps:\n",
        "   1. Remove stopwords\n",
        "   2. Lower-case all words\n",
        "   3. Remove words with less than 2 characters\n",
        "   4. Remove punctuation\n",
        "   5. Split each sentence into a list of words"
      ]
    },
    {
      "cell_type": "code",
      "execution_count": null,
      "metadata": {
        "ExecuteTime": {
          "end_time": "2023-02-27T00:14:14.250409Z",
          "start_time": "2023-02-27T00:14:14.235819Z"
        },
        "id": "6JVvT5kh7qO9",
        "outputId": "f0d92b51-42ac-4d50-ba4a-381425a7fd14"
      },
      "outputs": [
        {
          "name": "stderr",
          "output_type": "stream",
          "text": [
            "/Users/wangsixuan/opt/anaconda3/lib/python3.8/site-packages/ipykernel/ipkernel.py:287: DeprecationWarning: `should_run_async` will not call `transform_cell` automatically in the future. Please pass the result to `transformed_cell` argument and any exception that happen during thetransform in `preprocessing_exc_tuple` in IPython 7.17 and above.\n",
            "  and should_run_async(code)\n"
          ]
        }
      ],
      "source": [
        "# A function to clean a single line of text\n",
        "\n",
        "def clean_line(line):\n",
        "    \"\"\" Clean stopwords and punction for each line\n",
        "    \n",
        "    Args: \n",
        "        line (string): one line in file\n",
        "        \n",
        "    Returns:\n",
        "        list(str): a list of all words in the sentence\n",
        "    \"\"\"\n",
        "    punctuationRegex = r'\\W+|\\d+'\n",
        "    stopWords = set(stopwords.words('english'))\n",
        "    line = line.split(\" \")\n",
        "    filtered_content = []\n",
        "    for word in line:\n",
        "        if (word not in stopWords):  \n",
        "            word = re.sub(punctuationRegex, '', word)\n",
        "            if (len(word)>=2):\n",
        "                filtered_content.append(word.lower())\n",
        "\n",
        "    return filtered_content"
      ]
    },
    {
      "cell_type": "markdown",
      "metadata": {
        "id": "fYnnn1KC8jZ8"
      },
      "source": [
        "Finally, we put parse() and clean_line() function together and then extract the first 10,000 reviews into a new text file as your experiment dataset"
      ]
    },
    {
      "cell_type": "code",
      "execution_count": null,
      "metadata": {
        "ExecuteTime": {
          "end_time": "2023-02-27T00:14:18.399606Z",
          "start_time": "2023-02-27T00:14:18.389214Z"
        },
        "id": "FXjJSwnD8jvK",
        "outputId": "315977a8-9fce-44f3-fce6-c6924c744ad2"
      },
      "outputs": [
        {
          "name": "stderr",
          "output_type": "stream",
          "text": [
            "/Users/wangsixuan/opt/anaconda3/lib/python3.8/site-packages/ipykernel/ipkernel.py:287: DeprecationWarning: `should_run_async` will not call `transform_cell` automatically in the future. Please pass the result to `transformed_cell` argument and any exception that happen during thetransform in `preprocessing_exc_tuple` in IPython 7.17 and above.\n",
            "  and should_run_async(code)\n"
          ]
        }
      ],
      "source": [
        "def read_dataset(fname):\n",
        "    \"\"\" Read the 10000 lines in given dataset into list and clean stop words. \n",
        "        \n",
        "    Args: \n",
        "        fname (string): filename of Amazon Review Dataset\n",
        "        \n",
        "    Returns:\n",
        "        list of list of words: we view each document as a list, including a list of all words \n",
        "    \"\"\"\n",
        "    count = 0\n",
        "    exp_dataset = []\n",
        "    for review in parse(fname):\n",
        "        line = review[\"reviewText\"]\n",
        "        new_line = clean_line(line)\n",
        "        exp_dataset.append(new_line)\n",
        "        count += 1\n",
        "        if count > 10000:\n",
        "            break\n",
        "    return exp_dataset"
      ]
    },
    {
      "cell_type": "code",
      "execution_count": null,
      "metadata": {
        "ExecuteTime": {
          "end_time": "2023-02-27T00:14:30.868053Z",
          "start_time": "2023-02-27T00:14:21.735619Z"
        },
        "id": "4cRY1JaN8mIM",
        "outputId": "7aea74c3-9751-4667-db4f-30c81d71f7b0"
      },
      "outputs": [
        {
          "name": "stderr",
          "output_type": "stream",
          "text": [
            "/Users/wangsixuan/opt/anaconda3/lib/python3.8/site-packages/ipykernel/ipkernel.py:287: DeprecationWarning: `should_run_async` will not call `transform_cell` automatically in the future. Please pass the result to `transformed_cell` argument and any exception that happen during thetransform in `preprocessing_exc_tuple` in IPython 7.17 and above.\n",
            "  and should_run_async(code)\n"
          ]
        },
        {
          "name": "stdout",
          "output_type": "stream",
          "text": [
            "CPU times: user 3.77 s, sys: 2.5 s, total: 6.26 s\n",
            "Wall time: 9.12 s\n"
          ]
        }
      ],
      "source": [
        "%%time\n",
        "r = read_dataset(\"reviews_Cell_Phones_and_Accessories_5.json.gz\")\n"
      ]
    },
    {
      "cell_type": "markdown",
      "metadata": {
        "id": "2FQFnMjb8l1B"
      },
      "source": [
        "## 1.4 Topic Analysis\n",
        "\n",
        "**[5pts] Q1.4.1.1** Use topic numbers 3, 6, 9, 12, 15 respectively and print out all topics with 5 words.\n",
        "\n",
        "For this We will use gensim to train an LDA model. gensim requires the following steps:\n",
        "\n",
        "Construct a gensim.corpora.dictionary from the dataset\n",
        "Construct a gensim \"corpus\" using this dictionary, by mapping each word to an index in the dictionary\n",
        "Run LDA on this corpus"
      ]
    },
    {
      "cell_type": "code",
      "execution_count": null,
      "metadata": {
        "ExecuteTime": {
          "end_time": "2023-02-27T00:22:02.603916Z",
          "start_time": "2023-02-27T00:22:00.047796Z"
        },
        "id": "JzfOjF9I9kDD",
        "outputId": "9ec47436-fbcd-4615-d08c-9d5162863c43"
      },
      "outputs": [
        {
          "name": "stderr",
          "output_type": "stream",
          "text": [
            "/Users/wangsixuan/opt/anaconda3/lib/python3.8/site-packages/ipykernel/ipkernel.py:287: DeprecationWarning: `should_run_async` will not call `transform_cell` automatically in the future. Please pass the result to `transformed_cell` argument and any exception that happen during thetransform in `preprocessing_exc_tuple` in IPython 7.17 and above.\n",
            "  and should_run_async(code)\n"
          ]
        }
      ],
      "source": [
        "import gensim\n",
        "import gensim.corpora as corpora\n",
        "dictionary = corpora.Dictionary(r) # create a gensim dictionary, store it in variable \"dictionary\"\n",
        "corpus = [dictionary.doc2bow(i) for i in r] # create the gensim corpus, store it in variable \"corpus\""
      ]
    },
    {
      "cell_type": "markdown",
      "metadata": {
        "id": "xblcs_6-99gp"
      },
      "source": [
        "The function below prints the top num words in each topic for a given model."
      ]
    },
    {
      "cell_type": "code",
      "execution_count": null,
      "metadata": {
        "ExecuteTime": {
          "end_time": "2023-02-27T00:22:43.960204Z",
          "start_time": "2023-02-27T00:22:43.946616Z"
        },
        "id": "b_NopMJj951v",
        "outputId": "b9224574-34d7-43fd-fc2d-349ec904fddb"
      },
      "outputs": [
        {
          "name": "stderr",
          "output_type": "stream",
          "text": [
            "/Users/wangsixuan/opt/anaconda3/lib/python3.8/site-packages/ipykernel/ipkernel.py:287: DeprecationWarning: `should_run_async` will not call `transform_cell` automatically in the future. Please pass the result to `transformed_cell` argument and any exception that happen during thetransform in `preprocessing_exc_tuple` in IPython 7.17 and above.\n",
            "  and should_run_async(code)\n"
          ]
        }
      ],
      "source": [
        "\n",
        "def print_topic_words(model,num):\n",
        "    \"\"\" print top words in model topics.\n",
        "    \n",
        "    Args: \n",
        "        model: LDA model\n",
        "        \n",
        "    Returns:\n",
        "        none\n",
        "    \"\"\"    \n",
        "    print(model.print_topics(num_words=num))\n",
        "    return "
      ]
    },
    {
      "cell_type": "markdown",
      "metadata": {
        "id": "56Sv1l9S-JeI"
      },
      "source": [
        "The following function builds multiple LDA models with number of topics specified in the list `num_topics`."
      ]
    },
    {
      "cell_type": "code",
      "execution_count": null,
      "metadata": {
        "ExecuteTime": {
          "end_time": "2023-02-27T00:22:46.980551Z",
          "start_time": "2023-02-27T00:22:46.971737Z"
        },
        "id": "NhGPQYTo-Jxx",
        "outputId": "6b932d54-3d10-454c-9aae-d6a50a0aa896"
      },
      "outputs": [
        {
          "name": "stderr",
          "output_type": "stream",
          "text": [
            "/Users/wangsixuan/opt/anaconda3/lib/python3.8/site-packages/ipykernel/ipkernel.py:287: DeprecationWarning: `should_run_async` will not call `transform_cell` automatically in the future. Please pass the result to `transformed_cell` argument and any exception that happen during thetransform in `preprocessing_exc_tuple` in IPython 7.17 and above.\n",
            "  and should_run_async(code)\n"
          ]
        }
      ],
      "source": [
        "def build_num_topic_model(dictionary, corpus, num_topics):\n",
        "    \"\"\" Build lda model with given parameters, use print_topic_words to print words\n",
        "    \n",
        "    Args: \n",
        "        dictionary: dictionary built from dataset\n",
        "        corpus: corpus built from dataset\n",
        "        num_topics: list of numbers\n",
        "        \n",
        "    Returns:\n",
        "        none\n",
        "    \"\"\"    \n",
        "    for num_topic in num_topics:\n",
        "        lda_model = gensim.models.ldamodel.LdaModel(corpus=corpus,id2word=dictionary,num_topics=num_topic, random_state=100,\n",
        "                                                    update_every=1,chunksize=100,passes=10,alpha='auto',per_word_topics=True)\n",
        "        print_topic_words(lda_model,5)\n",
        "        "
      ]
    },
    {
      "cell_type": "code",
      "execution_count": null,
      "metadata": {
        "ExecuteTime": {
          "end_time": "2023-02-27T00:26:34.694038Z",
          "start_time": "2023-02-27T00:22:51.304670Z"
        },
        "id": "k8NtFThx-Od0",
        "outputId": "8878af1f-f630-4247-d206-16356c98dcc7"
      },
      "outputs": [
        {
          "name": "stderr",
          "output_type": "stream",
          "text": [
            "/Users/wangsixuan/opt/anaconda3/lib/python3.8/site-packages/ipykernel/ipkernel.py:287: DeprecationWarning: `should_run_async` will not call `transform_cell` automatically in the future. Please pass the result to `transformed_cell` argument and any exception that happen during thetransform in `preprocessing_exc_tuple` in IPython 7.17 and above.\n",
            "  and should_run_async(code)\n"
          ]
        },
        {
          "name": "stdout",
          "output_type": "stream",
          "text": [
            "[(0, '0.028*\"screen\" + 0.020*\"phone\" + 0.010*\"camera\" + 0.009*\"nokia\" + 0.009*\"data\"'), (1, '0.018*\"iphone\" + 0.017*\"battery\" + 0.015*\"it\" + 0.015*\"case\" + 0.013*\"use\"'), (2, '0.029*\"headset\" + 0.024*\"bluetooth\" + 0.024*\"ear\" + 0.020*\"sound\" + 0.010*\"quality\"')]\n",
            "[(0, '0.057*\"doubles\" + 0.054*\"cable\" + 0.033*\"uses\" + 0.031*\"level\" + 0.029*\"alternative\"'), (1, '0.094*\"iphone\" + 0.079*\"case\" + 0.042*\"mophie\" + 0.025*\"pocket\" + 0.022*\"bottom\"'), (2, '0.059*\"headset\" + 0.048*\"ear\" + 0.024*\"convenient\" + 0.016*\"unit\" + 0.016*\"wearing\"'), (3, '0.051*\"screen\" + 0.037*\"however\" + 0.023*\"addon\" + 0.020*\"phone\" + 0.017*\"nokia\"'), (4, '0.027*\"battery\" + 0.024*\"it\" + 0.022*\"the\" + 0.021*\"phone\" + 0.015*\"use\"'), (5, '0.037*\"juice\" + 0.020*\"bluetooth\" + 0.017*\"use\" + 0.017*\"extra\" + 0.016*\"charge\"')]\n",
            "[(0, '0.217*\"battery\" + 0.066*\"life\" + 0.048*\"doubles\" + 0.028*\"uses\" + 0.027*\"available\"'), (1, '0.065*\"iphone\" + 0.054*\"case\" + 0.044*\"it\" + 0.029*\"juice\" + 0.029*\"great\"'), (2, '0.131*\"however\" + 0.079*\"slimmer\" + 0.055*\"able\" + 0.016*\"stylus\" + 0.016*\"once\"'), (3, '0.226*\"pack\" + 0.112*\"screen\" + 0.058*\"convenient\" + 0.030*\"comes\" + 0.026*\"protector\"'), (4, '0.031*\"the\" + 0.022*\"one\" + 0.015*\"good\" + 0.014*\"like\" + 0.013*\"get\"'), (5, '0.046*\"use\" + 0.043*\"phone\" + 0.016*\"extra\" + 0.016*\"bluetooth\" + 0.015*\"using\"'), (6, '0.069*\"cable\" + 0.055*\"home\" + 0.041*\"annoying\" + 0.040*\"iphones\" + 0.036*\"increased\"'), (7, '0.045*\"gs\" + 0.043*\"theres\" + 0.043*\"rather\" + 0.038*\"otherwise\" + 0.036*\"regularly\"'), (8, '0.031*\"data\" + 0.030*\"signal\" + 0.019*\"nokia\" + 0.017*\"service\" + 0.016*\"email\"')]\n",
            "[(0, '0.196*\"case\" + 0.105*\"mophie\" + 0.050*\"doubles\" + 0.031*\"air\" + 0.028*\"level\"'), (1, '0.062*\"bottom\" + 0.036*\"remove\" + 0.035*\"difficult\" + 0.033*\"uses\" + 0.030*\"nice\"'), (2, '0.000*\"scatter\" + 0.000*\"sellersthey\" + 0.000*\"cordas\" + 0.000*\"printing\" + 0.000*\"attraction\"'), (3, '0.116*\"screen\" + 0.085*\"however\" + 0.060*\"convenient\" + 0.042*\"find\" + 0.032*\"comes\"'), (4, '0.048*\"phone\" + 0.044*\"the\" + 0.027*\"pack\" + 0.024*\"it\" + 0.019*\"need\"'), (5, '0.033*\"bluetooth\" + 0.022*\"device\" + 0.022*\"probably\" + 0.021*\"charger\" + 0.020*\"usb\"'), (6, '0.188*\"cable\" + 0.069*\"data\" + 0.028*\"model\" + 0.023*\"allows\" + 0.021*\"needs\"'), (7, '0.127*\"gs\" + 0.122*\"rather\" + 0.108*\"otherwise\" + 0.064*\"something\" + 0.044*\"earpiece\"'), (8, '0.135*\"afford\" + 0.082*\"cell\" + 0.050*\"left\" + 0.048*\"simple\" + 0.037*\"install\"'), (9, '0.047*\"iphone\" + 0.045*\"battery\" + 0.024*\"one\" + 0.022*\"this\" + 0.022*\"great\"'), (10, '0.110*\"tight\" + 0.066*\"signal\" + 0.044*\"with\" + 0.040*\"to\" + 0.023*\"what\"'), (11, '0.052*\"headset\" + 0.042*\"ear\" + 0.029*\"quality\" + 0.024*\"fit\" + 0.023*\"theres\"')]\n",
            "[(0, '0.080*\"protection\" + 0.069*\"expensive\" + 0.061*\"person\" + 0.054*\"version\" + 0.040*\"apply\"'), (1, '0.060*\"plug\" + 0.057*\"charger\" + 0.045*\"uses\" + 0.042*\"long\" + 0.041*\"nice\"'), (2, '0.248*\"glad\" + 0.099*\"full\" + 0.040*\"more\" + 0.038*\"forget\" + 0.038*\"return\"'), (3, '0.231*\"screen\" + 0.169*\"however\" + 0.063*\"comes\" + 0.053*\"protector\" + 0.048*\"ordered\"'), (4, '0.039*\"headset\" + 0.038*\"life\" + 0.034*\"pocket\" + 0.032*\"ear\" + 0.031*\"quality\"'), (5, '0.111*\"usb\" + 0.106*\"port\" + 0.095*\"handy\" + 0.093*\"annoying\" + 0.091*\"led\"'), (6, '0.332*\"cable\" + 0.050*\"model\" + 0.035*\"turned\" + 0.033*\"road\" + 0.031*\"super\"'), (7, '0.155*\"oem\" + 0.050*\"broken\" + 0.000*\"stuff\" + 0.000*\"shorter\" + 0.000*\"shop\"'), (8, '0.178*\"afford\" + 0.130*\"nokia\" + 0.061*\"pair\" + 0.054*\"adapter\" + 0.052*\"buying\"'), (9, '0.075*\"battery\" + 0.060*\"it\" + 0.036*\"great\" + 0.030*\"this\" + 0.028*\"little\"'), (10, '0.060*\"phone\" + 0.049*\"the\" + 0.040*\"use\" + 0.022*\"get\" + 0.021*\"would\"'), (11, '0.243*\"bluetooth\" + 0.079*\"headsets\" + 0.071*\"music\" + 0.043*\"audio\" + 0.042*\"headphones\"'), (12, '0.136*\"part\" + 0.126*\"remove\" + 0.073*\"tried\" + 0.041*\"feel\" + 0.040*\"wanted\"'), (13, '0.182*\"iphone\" + 0.152*\"case\" + 0.085*\"pack\" + 0.083*\"juice\" + 0.039*\"doubles\"'), (14, '0.102*\"finish\" + 0.072*\"camera\" + 0.039*\"access\" + 0.036*\"service\" + 0.035*\"etc\"')]\n"
          ]
        }
      ],
      "source": [
        "build_num_topic_model(dictionary, corpus, [3, 6, 9, 12, 15])\n"
      ]
    },
    {
      "cell_type": "markdown",
      "metadata": {
        "id": "m8vkk6bo-UEi"
      },
      "source": [
        "**[3pts] Q1.4.1.2**  Explain what could be interpreted for each topics, and describe the similarity and difference between different topic numbers."
      ]
    },
    {
      "cell_type": "markdown",
      "metadata": {
        "id": "BRLNs647-VF7"
      },
      "source": [
        "-Each topic and their top 5 estimated relevency/weighted words within is displayed. We can observe a focus/theme from these 5 words. For example, the first topic in the first three topics is about a nokia phone, the second is relevent to iphone case/battery, and the third one is about a wireless headphone.\n",
        "\n",
        "**Similarity**: The same word appears across different parameteres. For example, the word \"doubles\" appears in 6,9 and 12 for the first topic. Furthermore, some topics have similar focuses across parameters. Topic one seems to focus in phone screens for 3, 12 and 15. \n",
        "\n",
        "**Difference**: First difference is the topics outputed, this is due to the parameters we set. Moreover, some topics are only present for certain parameters. For example, the output from 9 seems to cover \"battery\" while others don't. One more difference is the weight each words has for each topic."
      ]
    },
    {
      "cell_type": "markdown",
      "metadata": {
        "id": "ERTTf2sGDIPp"
      },
      "source": [
        "**[2pts] Q1.4.1.3**  Which topic number would you choose? Explain."
      ]
    },
    {
      "cell_type": "markdown",
      "metadata": {
        "id": "UOgDUPcvDLs8"
      },
      "source": [
        "-From observation, it seems that the larger the topic number, the more subjective or descriptive words start to appear. Take parameter 15 as an example, topic 5 shows words like \"annoying\" and \"handy\". These words are much more useful in helping with language analysis. Therefore, choosing the larger parameter, 15, would be an optimal choice."
      ]
    },
    {
      "cell_type": "markdown",
      "metadata": {
        "id": "sJfqY1reDX5s"
      },
      "source": [
        "## 1.5 Model Evaluation\n",
        "\n",
        "**[12 pts] Q1.5.1** Now we investigate two methods to evaluate our model and choose the topic number\n",
        "\n",
        "1.Perplexity is a measurement of how well a probability distribution or probability model predicts a sample. A low perplexity indicates the probability distribution is good at predicting the sample. We can use model.log_perplexity(document) to evaluate the perplexity of our LDA model.\n",
        "\n",
        "2.Topic coherence is a one type of interpretability measurement for a topic. It measures if a set of top keywords describe a coherent and singular concept. A good topic will have high topic coherence score. We can use CoherenceModel(model=ldamodel).get_coherence() to calculate it.\n",
        "\n",
        "Plot Perplexity and topic coherence scores of our LDA model for topic number 3,6,9,12,15,20,50."
      ]
    },
    {
      "cell_type": "markdown",
      "metadata": {
        "id": "ni7eZRSIDsIU"
      },
      "source": [
        "The code below trains topic models with different numbers of topics and measures their coherence and perplexity."
      ]
    },
    {
      "cell_type": "code",
      "execution_count": null,
      "metadata": {
        "ExecuteTime": {
          "end_time": "2023-02-27T00:27:11.081639Z",
          "start_time": "2023-02-27T00:27:11.060964Z"
        },
        "id": "1ue1Pf4--UjO",
        "outputId": "b0283e16-fe5a-4896-de4d-cccf4ad351b3"
      },
      "outputs": [
        {
          "name": "stderr",
          "output_type": "stream",
          "text": [
            "/Users/wangsixuan/opt/anaconda3/lib/python3.8/site-packages/ipykernel/ipkernel.py:287: DeprecationWarning: `should_run_async` will not call `transform_cell` automatically in the future. Please pass the result to `transformed_cell` argument and any exception that happen during thetransform in `preprocessing_exc_tuple` in IPython 7.17 and above.\n",
            "  and should_run_async(code)\n"
          ]
        }
      ],
      "source": [
        "# perplexity \n",
        "# run different number of topics to get perplexity and coherence value for this model\n",
        "from gensim.models.coherencemodel import CoherenceModel\n",
        "def get_measurement_for_model(dictionary, corpus, topic_nums):\n",
        "    \"\"\" Build lda model with given parameters \n",
        "    \n",
        "    Args: \n",
        "        dictionary: dictionary built from dataset\n",
        "        corpus: corpus built from dataset\n",
        "        topic_nums: a list contains all possible topic number\n",
        "        \n",
        "    Returns:\n",
        "        2 lists: one of perplexities, and one of coherence value\n",
        "    \"\"\"  \n",
        "    perplexity = []\n",
        "    coherence_value=[]\n",
        "    for num_topic in topic_nums:\n",
        "        lda_model = gensim.models.ldamodel.LdaModel(corpus=corpus,id2word=dictionary,num_topics=num_topic, random_state=100,\n",
        "                                                    alpha='auto',per_word_topics=True)\n",
        "        perplexity.append(lda_model.log_perplexity(corpus))\n",
        "        coherence_model_lda = CoherenceModel(model=lda_model, texts=r, dictionary=dictionary, coherence='c_v')\n",
        "        coherence_lda = coherence_model_lda.get_coherence()\n",
        "        coherence_value.append(coherence_lda)\n",
        "    return perplexity,coherence_value"
      ]
    },
    {
      "cell_type": "code",
      "execution_count": null,
      "metadata": {
        "ExecuteTime": {
          "end_time": "2023-02-27T00:36:54.730643Z",
          "start_time": "2023-02-27T00:27:13.985780Z"
        },
        "id": "nX_zj0RoD4j0",
        "outputId": "0ee49e3d-6ea5-44ce-beb9-62f93107a5fb"
      },
      "outputs": [
        {
          "name": "stderr",
          "output_type": "stream",
          "text": [
            "/Users/wangsixuan/opt/anaconda3/lib/python3.8/site-packages/ipykernel/ipkernel.py:287: DeprecationWarning: `should_run_async` will not call `transform_cell` automatically in the future. Please pass the result to `transformed_cell` argument and any exception that happen during thetransform in `preprocessing_exc_tuple` in IPython 7.17 and above.\n",
            "  and should_run_async(code)\n"
          ]
        }
      ],
      "source": [
        "perplexity, coherence = get_measurement_for_model(dictionary, corpus, [3, 6, 9, 12, 15, 20, 50])"
      ]
    },
    {
      "cell_type": "code",
      "execution_count": null,
      "metadata": {
        "ExecuteTime": {
          "end_time": "2023-02-27T00:36:54.740965Z",
          "start_time": "2023-02-27T00:36:54.735725Z"
        },
        "id": "yk-ojlJSD85k",
        "outputId": "4306e671-f401-4843-edd8-8a191510b9df"
      },
      "outputs": [
        {
          "name": "stdout",
          "output_type": "stream",
          "text": [
            "[-8.006962250029888, -8.172577509700758, -8.48297107592128, -9.548681816044231, -13.231171163236567, -16.974818524403197, -29.702365738746032]\n",
            "[0.47822958237811064, 0.380644419686559, 0.2888710315572619, 0.3000841502626102, 0.3379206754086787, 0.29336232040957777, 0.43960032246440484]\n"
          ]
        },
        {
          "name": "stderr",
          "output_type": "stream",
          "text": [
            "/Users/wangsixuan/opt/anaconda3/lib/python3.8/site-packages/ipykernel/ipkernel.py:287: DeprecationWarning: `should_run_async` will not call `transform_cell` automatically in the future. Please pass the result to `transformed_cell` argument and any exception that happen during thetransform in `preprocessing_exc_tuple` in IPython 7.17 and above.\n",
            "  and should_run_async(code)\n"
          ]
        }
      ],
      "source": [
        "print(perplexity)\n",
        "print(coherence)"
      ]
    },
    {
      "cell_type": "markdown",
      "metadata": {
        "id": "PcYTqBizD9az"
      },
      "source": [
        "We can now plot the coherence and perplexity of each model."
      ]
    },
    {
      "cell_type": "code",
      "execution_count": null,
      "metadata": {
        "ExecuteTime": {
          "end_time": "2023-02-27T00:36:54.746699Z",
          "start_time": "2023-02-27T00:36:54.744016Z"
        },
        "id": "1B9scv8sD_n8",
        "outputId": "89e90433-db7d-48fb-8d5d-cabd093ccd6f"
      },
      "outputs": [
        {
          "name": "stderr",
          "output_type": "stream",
          "text": [
            "/Users/wangsixuan/opt/anaconda3/lib/python3.8/site-packages/ipykernel/ipkernel.py:287: DeprecationWarning: `should_run_async` will not call `transform_cell` automatically in the future. Please pass the result to `transformed_cell` argument and any exception that happen during thetransform in `preprocessing_exc_tuple` in IPython 7.17 and above.\n",
            "  and should_run_async(code)\n"
          ]
        }
      ],
      "source": [
        "import matplotlib.pyplot as plt"
      ]
    },
    {
      "cell_type": "code",
      "execution_count": null,
      "metadata": {
        "ExecuteTime": {
          "end_time": "2023-02-27T00:36:54.906688Z",
          "start_time": "2023-02-27T00:36:54.748613Z"
        },
        "id": "G76jh0BXECKs",
        "outputId": "380b61a4-9cac-48bc-d496-1aa11d3e92ba"
      },
      "outputs": [
        {
          "name": "stderr",
          "output_type": "stream",
          "text": [
            "/Users/wangsixuan/opt/anaconda3/lib/python3.8/site-packages/ipykernel/ipkernel.py:287: DeprecationWarning: `should_run_async` will not call `transform_cell` automatically in the future. Please pass the result to `transformed_cell` argument and any exception that happen during thetransform in `preprocessing_exc_tuple` in IPython 7.17 and above.\n",
            "  and should_run_async(code)\n"
          ]
        },
        {
          "data": {
            "image/png": "[encoded data removed]",
            "text/plain": [
              "<Figure size 432x288 with 1 Axes>"
            ]
          },
          "metadata": {
            "needs_background": "light"
          },
          "output_type": "display_data"
        }
      ],
      "source": [
        "plt.plot([3, 6, 9, 12, 15, 20, 50], perplexity)\n",
        "plt.grid()\n",
        "plt.xlabel(\"Number of topics\")\n",
        "plt.ylabel(\"Perplexity\")\n",
        "plt.show()"
      ]
    },
    {
      "cell_type": "markdown",
      "metadata": {
        "id": "WUDG-rr5ELQN"
      },
      "source": [
        "**[2pts] Q1.5.2**  From the above graph what topic number would you choose and why? Is it a good idea to choose the topic number based on perplexity? why or why not?"
      ]
    },
    {
      "cell_type": "markdown",
      "metadata": {
        "id": "q5SLdipiENoi"
      },
      "source": [
        "-From the graph above, 50 topic numbers has the lowest perplexity. As mentioned, a lower perplexity is associated with a good indication on the probability distribution predicting the sample. Hence, we would choose 50 number of topics. \n",
        "\n",
        "However, it is not a good idea to base topic numbers on just perplexity, because it might not indicate a high coherence."
      ]
    },
    {
      "cell_type": "code",
      "execution_count": null,
      "metadata": {
        "ExecuteTime": {
          "end_time": "2023-02-27T00:36:55.037266Z",
          "start_time": "2023-02-27T00:36:54.908388Z"
        },
        "id": "EBhTyUQdELuW",
        "outputId": "da2a49ca-5e23-473c-9979-5a771f66575d"
      },
      "outputs": [
        {
          "name": "stderr",
          "output_type": "stream",
          "text": [
            "/Users/wangsixuan/opt/anaconda3/lib/python3.8/site-packages/ipykernel/ipkernel.py:287: DeprecationWarning: `should_run_async` will not call `transform_cell` automatically in the future. Please pass the result to `transformed_cell` argument and any exception that happen during thetransform in `preprocessing_exc_tuple` in IPython 7.17 and above.\n",
            "  and should_run_async(code)\n"
          ]
        },
        {
          "data": {
            "image/png": "[encoded data removed]",
            "text/plain": [
              "<Figure size 432x288 with 1 Axes>"
            ]
          },
          "metadata": {
            "needs_background": "light"
          },
          "output_type": "display_data"
        }
      ],
      "source": [
        "plt.plot([3, 6, 9, 12, 15, 20, 50], coherence)\n",
        "plt.grid()\n",
        "plt.xlabel(\"Number of topics\")\n",
        "plt.ylabel(\"Coherence\")\n",
        "plt.show()"
      ]
    },
    {
      "cell_type": "markdown",
      "metadata": {
        "id": "VnCOd2_CEY2W"
      },
      "source": [
        "**[2pts] Q1.5.3**  From the above graph what topic number would you choose and why?"
      ]
    },
    {
      "cell_type": "markdown",
      "metadata": {
        "id": "Mm5bcHV4EcOa"
      },
      "source": [
        "-Given the fact that a higher coherence means a good topic, it would make sense to choose 50 topics or 5 topics. We can eliminate 5 topic as a parameter as it will most likely not capture the complexity and diversity."
      ]
    },
    {
      "cell_type": "markdown",
      "metadata": {
        "id": "ppxl4L4cElVA"
      },
      "source": [
        "**[4pts]Q1.5.4** Compare two methods you implemented in the previous quesions, which one do you think is better and why? In answering, please discuss the actual topics generated."
      ]
    },
    {
      "cell_type": "markdown",
      "metadata": {
        "id": "XMiQEut8Em__"
      },
      "source": [
        "-Since both measures led to an answer of 50 topics, that means coherence and complexity has met an agreement. This might not be the case in all, therefore it is important to find a balance of the two. A good coherence is demonstrated by the 15 topics we have generated from **1.4**. It gave decent evidence to evalute human judgement of the  quality review, with more descriptive words like \"great\" in topic 9."
      ]
    },
    {
      "cell_type": "markdown",
      "metadata": {
        "id": "hBkDhQzGFPyp"
      },
      "source": [
        "## 1.6 Alpha and Beta in LDA"
      ]
    },
    {
      "cell_type": "markdown",
      "metadata": {
        "id": "Jelhz4KFFgde"
      },
      "source": [
        "**[7pts]Q1.6.1** In this problem, we will check the two most important parameters in LDA model: alpha and beta. Alpha represents document-topic density - with a higher alpha, documents are made up of more topics, and with lower alpha, documents contain fewer topics. Beta represents topic-word density - with a high beta, topics are made up of most of the words in the corpus, and with a low beta they consist of few words."
      ]
    },
    {
      "cell_type": "code",
      "execution_count": null,
      "metadata": {
        "ExecuteTime": {
          "end_time": "2023-02-27T00:37:12.721918Z",
          "start_time": "2023-02-27T00:37:12.717277Z"
        },
        "id": "x7Wr3DphEb2O",
        "outputId": "368c225e-8b77-44a7-872f-d18ec06fb573"
      },
      "outputs": [
        {
          "name": "stderr",
          "output_type": "stream",
          "text": [
            "/Users/wangsixuan/opt/anaconda3/lib/python3.8/site-packages/ipykernel/ipkernel.py:287: DeprecationWarning: `should_run_async` will not call `transform_cell` automatically in the future. Please pass the result to `transformed_cell` argument and any exception that happen during thetransform in `preprocessing_exc_tuple` in IPython 7.17 and above.\n",
            "  and should_run_async(code)\n"
          ]
        }
      ],
      "source": [
        "best_topic_num = 50 # CHANGE THIS"
      ]
    },
    {
      "cell_type": "code",
      "execution_count": null,
      "metadata": {
        "ExecuteTime": {
          "end_time": "2023-02-27T00:37:20.744439Z",
          "start_time": "2023-02-27T00:37:13.627326Z"
        },
        "id": "8AP4Hn1uFkkc",
        "outputId": "be08ee5b-e60e-456e-9762-e5e3d9eef214"
      },
      "outputs": [
        {
          "name": "stderr",
          "output_type": "stream",
          "text": [
            "/Users/wangsixuan/opt/anaconda3/lib/python3.8/site-packages/ipykernel/ipkernel.py:287: DeprecationWarning: `should_run_async` will not call `transform_cell` automatically in the future. Please pass the result to `transformed_cell` argument and any exception that happen during thetransform in `preprocessing_exc_tuple` in IPython 7.17 and above.\n",
            "  and should_run_async(code)\n"
          ]
        },
        {
          "name": "stdout",
          "output_type": "stream",
          "text": [
            "[(1, '0.120*\"doubles\" + 0.074*\"afford\" + 0.050*\"normally\" + 0.038*\"port\" + 0.038*\"uses\"'), (32, '0.019*\"battery\" + 0.015*\"phone\" + 0.012*\"mah\" + 0.010*\"the\" + 0.009*\"backbeat\"'), (47, '0.051*\"stylus\" + 0.037*\"gs\" + 0.027*\"iphone\" + 0.008*\"cable\" + 0.008*\"keyboard\"'), (25, '0.030*\"daughter\" + 0.010*\"loves\" + 0.008*\"surprising\" + 0.006*\"chose\" + 0.006*\"speech\"'), (36, '0.144*\"travelling\" + 0.115*\"alternative\" + 0.090*\"rechargeable\" + 0.049*\"use\" + 0.036*\"iphone\"'), (44, '0.023*\"phone\" + 0.020*\"the\" + 0.019*\"it\" + 0.016*\"battery\" + 0.012*\"great\"'), (30, '0.034*\"phone\" + 0.012*\"it\" + 0.009*\"nokia\" + 0.008*\"one\" + 0.007*\"phones\"'), (49, '0.439*\"juice\" + 0.038*\"home\" + 0.037*\"battery\" + 0.035*\"iphones\" + 0.030*\"use\"'), (26, '0.028*\"it\" + 0.026*\"works\" + 0.025*\"cable\" + 0.018*\"apple\" + 0.016*\"great\"'), (23, '0.379*\"iphones\" + 0.064*\"extra\" + 0.031*\"battery\" + 0.030*\"glad\" + 0.023*\"charger\"'), (24, '0.471*\"packs\" + 0.015*\"rather\" + 0.014*\"seller\" + 0.011*\"item\" + 0.010*\"arrived\"'), (35, '0.016*\"jawbone\" + 0.014*\"signal\" + 0.014*\"antenna\" + 0.009*\"phone\" + 0.008*\"aliph\"'), (13, '0.069*\"trade\" + 0.069*\"addon\" + 0.065*\"chore\" + 0.020*\"phone\" + 0.019*\"available\"'), (34, '0.241*\"heft\" + 0.137*\"increase\" + 0.047*\"doubles\" + 0.028*\"regularly\" + 0.020*\"life\"'), (39, '0.017*\"ear\" + 0.013*\"sound\" + 0.011*\"great\" + 0.010*\"earphones\" + 0.008*\"it\"'), (16, '0.235*\"iphone\" + 0.057*\"increased\" + 0.053*\"regularly\" + 0.033*\"air\" + 0.025*\"matte\"'), (11, '0.012*\"bluetooth\" + 0.011*\"phone\" + 0.010*\"it\" + 0.010*\"the\" + 0.009*\"use\"'), (12, '0.023*\"phone\" + 0.009*\"charger\" + 0.008*\"use\" + 0.007*\"decision\" + 0.006*\"rubbery\"'), (4, '0.021*\"phone\" + 0.012*\"it\" + 0.011*\"one\" + 0.010*\"use\" + 0.010*\"great\"'), (27, '0.031*\"extreme\" + 0.027*\"bb\" + 0.017*\"product\" + 0.017*\"recommend\" + 0.015*\"item\"')]\n"
          ]
        }
      ],
      "source": [
        "#model 1\n",
        "model1 = gensim.models.ldamodel.LdaModel(corpus=corpus,id2word=dictionary,num_topics=best_topic_num, random_state=100,\n",
        "                                            update_every=1,alpha=1/best_topic_num,eta=1/best_topic_num,per_word_topics=True)\n",
        "print_topic_words(model1,5)"
      ]
    },
    {
      "cell_type": "code",
      "execution_count": null,
      "metadata": {
        "ExecuteTime": {
          "end_time": "2023-02-27T00:37:27.156509Z",
          "start_time": "2023-02-27T00:37:20.747524Z"
        },
        "id": "3WDzHIzGFm7v",
        "outputId": "56c7e013-c724-413c-ff7b-562bc4987258"
      },
      "outputs": [
        {
          "name": "stderr",
          "output_type": "stream",
          "text": [
            "/Users/wangsixuan/opt/anaconda3/lib/python3.8/site-packages/ipykernel/ipkernel.py:287: DeprecationWarning: `should_run_async` will not call `transform_cell` automatically in the future. Please pass the result to `transformed_cell` argument and any exception that happen during thetransform in `preprocessing_exc_tuple` in IPython 7.17 and above.\n",
            "  and should_run_async(code)\n"
          ]
        },
        {
          "name": "stdout",
          "output_type": "stream",
          "text": [
            "[(1, '0.009*\"charge\" + 0.008*\"charger\" + 0.005*\"battery\" + 0.005*\"phone\" + 0.004*\"samsung\"'), (32, '0.006*\"battery\" + 0.003*\"phone\" + 0.003*\"great\" + 0.002*\"mah\" + 0.002*\"the\"'), (47, '0.003*\"great\" + 0.002*\"phone\" + 0.002*\"it\" + 0.002*\"effectly\" + 0.002*\"beefs\"'), (25, '0.002*\"effectly\" + 0.002*\"beefs\" + 0.002*\"encumbered\" + 0.002*\"attachedif\" + 0.002*\"unavoidably\"'), (36, '0.004*\"use\" + 0.003*\"it\" + 0.003*\"great\" + 0.003*\"the\" + 0.002*\"phone\"'), (44, '0.007*\"battery\" + 0.004*\"packs\" + 0.004*\"the\" + 0.004*\"great\" + 0.004*\"it\"'), (30, '0.005*\"phone\" + 0.003*\"charger\" + 0.003*\"it\" + 0.002*\"great\" + 0.002*\"use\"'), (49, '0.003*\"great\" + 0.003*\"phone\" + 0.003*\"charger\" + 0.002*\"it\" + 0.002*\"battery\"'), (26, '0.002*\"it\" + 0.002*\"great\" + 0.002*\"encumbered\" + 0.002*\"effectly\" + 0.002*\"attachedif\"'), (23, '0.002*\"effectly\" + 0.002*\"beefs\" + 0.002*\"attachedif\" + 0.002*\"encumbered\" + 0.002*\"unavoidably\"'), (24, '0.002*\"effectly\" + 0.002*\"encumbered\" + 0.002*\"attachedif\" + 0.002*\"beefs\" + 0.002*\"unavoidably\"'), (35, '0.002*\"attachedif\" + 0.002*\"encumbered\" + 0.002*\"effectly\" + 0.002*\"beefs\" + 0.002*\"great\"'), (13, '0.039*\"addon\" + 0.023*\"phone\" + 0.021*\"chore\" + 0.014*\"the\" + 0.014*\"battery\"'), (34, '0.006*\"it\" + 0.004*\"the\" + 0.003*\"great\" + 0.003*\"this\" + 0.003*\"product\"'), (39, '0.003*\"great\" + 0.003*\"it\" + 0.002*\"beefs\" + 0.002*\"attachedif\" + 0.002*\"effectly\"'), (16, '0.003*\"great\" + 0.003*\"the\" + 0.002*\"it\" + 0.002*\"phone\" + 0.002*\"iphone\"'), (11, '0.005*\"it\" + 0.004*\"bluetooth\" + 0.004*\"great\" + 0.004*\"phone\" + 0.004*\"use\"'), (12, '0.004*\"phone\" + 0.002*\"it\" + 0.002*\"use\" + 0.002*\"battery\" + 0.002*\"effectly\"'), (4, '0.011*\"signal\" + 0.006*\"phone\" + 0.006*\"antenna\" + 0.005*\"it\" + 0.005*\"great\"'), (27, '0.002*\"effectly\" + 0.002*\"encumbered\" + 0.002*\"attachedif\" + 0.002*\"beefs\" + 0.002*\"unavoidably\"')]\n"
          ]
        }
      ],
      "source": [
        "#model 2\n",
        "model2 = gensim.models.ldamodel.LdaModel(corpus=corpus,id2word=dictionary,num_topics=best_topic_num, random_state=100,\n",
        "                                            update_every=1,alpha=0.5,eta=0.2,per_word_topics=True)\n",
        "print_topic_words(model2, 5)"
      ]
    },
    {
      "cell_type": "code",
      "execution_count": null,
      "metadata": {
        "ExecuteTime": {
          "end_time": "2023-02-27T00:37:34.995033Z",
          "start_time": "2023-02-27T00:37:27.159647Z"
        },
        "id": "hhM9efkXFqI0",
        "outputId": "64cb7d84-7a4e-44e2-96b1-fd1aef8945cc"
      },
      "outputs": [
        {
          "name": "stderr",
          "output_type": "stream",
          "text": [
            "/Users/wangsixuan/opt/anaconda3/lib/python3.8/site-packages/ipykernel/ipkernel.py:287: DeprecationWarning: `should_run_async` will not call `transform_cell` automatically in the future. Please pass the result to `transformed_cell` argument and any exception that happen during thetransform in `preprocessing_exc_tuple` in IPython 7.17 and above.\n",
            "  and should_run_async(code)\n"
          ]
        },
        {
          "name": "stdout",
          "output_type": "stream",
          "text": [
            "[(45, '0.030*\"didnt\" + 0.017*\"post\" + 0.014*\"workouts\" + 0.014*\"workout\" + 0.013*\"youre\"'), (25, '0.030*\"daughter\" + 0.010*\"loves\" + 0.007*\"surprising\" + 0.006*\"chose\" + 0.006*\"speech\"'), (22, '0.013*\"tab\" + 0.011*\"sd\" + 0.008*\"reader\" + 0.008*\"card\" + 0.007*\"phone\"'), (21, '0.025*\"color\" + 0.021*\"condition\" + 0.018*\"phone\" + 0.012*\"good\" + 0.012*\"again\"'), (47, '0.051*\"stylus\" + 0.036*\"gs\" + 0.026*\"iphone\" + 0.008*\"junk\" + 0.008*\"cable\"'), (41, '0.018*\"applying\" + 0.012*\"incase\" + 0.009*\"behavior\" + 0.008*\"the\" + 0.007*\"guitar\"'), (37, '0.013*\"brand\" + 0.008*\"works\" + 0.008*\"ip\" + 0.007*\"droid\" + 0.007*\"zip\"'), (42, '0.016*\"really\" + 0.014*\"de\" + 0.013*\"mirror\" + 0.013*\"it\" + 0.012*\"writing\"'), (15, '0.021*\"ps\" + 0.009*\"useful\" + 0.008*\"good\" + 0.008*\"like\" + 0.008*\"tooth\"'), (14, '0.015*\"phone\" + 0.014*\"youtube\" + 0.014*\"case\" + 0.013*\"buy\" + 0.013*\"rim\"'), (34, '0.246*\"heft\" + 0.134*\"increase\" + 0.036*\"doubles\" + 0.028*\"regularly\" + 0.020*\"life\"'), (46, '0.243*\"depth\" + 0.108*\"increase\" + 0.030*\"for\" + 0.024*\"the\" + 0.017*\"it\"'), (48, '0.402*\"battery\" + 0.081*\"thanks\" + 0.055*\"life\" + 0.050*\"handy\" + 0.048*\"owners\"'), (16, '0.235*\"iphone\" + 0.058*\"increased\" + 0.055*\"regularly\" + 0.033*\"air\" + 0.025*\"matte\"'), (33, '0.133*\"portability\" + 0.093*\"pack\" + 0.074*\"round\" + 0.054*\"convenient\" + 0.031*\"glad\"'), (1, '0.122*\"doubles\" + 0.073*\"afford\" + 0.049*\"normally\" + 0.039*\"uses\" + 0.038*\"port\"'), (13, '0.069*\"trade\" + 0.069*\"addon\" + 0.065*\"chore\" + 0.021*\"phone\" + 0.019*\"available\"'), (40, '0.078*\"shed\" + 0.022*\"headset\" + 0.019*\"ear\" + 0.013*\"the\" + 0.012*\"bluetooth\"'), (9, '0.143*\"pack\" + 0.044*\"indicators\" + 0.031*\"iphone\" + 0.030*\"led\" + 0.025*\"away\"'), (29, '0.092*\"case\" + 0.074*\"mophie\" + 0.036*\"iphone\" + 0.033*\"pocket\" + 0.028*\"bottom\"')]\n"
          ]
        }
      ],
      "source": [
        "#model 3\n",
        "model3 = gensim.models.ldamodel.LdaModel(corpus=corpus,id2word=dictionary,num_topics=best_topic_num, random_state=100,\n",
        "                                            update_every=1,alpha='auto',eta='auto',per_word_topics=True)\n",
        "print_topic_words(model3, 5)"
      ]
    },
    {
      "cell_type": "markdown",
      "metadata": {
        "id": "WRIg6fAIFwW0"
      },
      "source": [
        "**[3pts]1.6.2**  Explain how the different alpha and beta values theoretically influence the LDA model. Then describe what you find in the empirical result (e.g difference in topic words and topics)"
      ]
    },
    {
      "cell_type": "markdown",
      "metadata": {
        "id": "QU26drlOFxo1"
      },
      "source": [
        "-The results from the 3 models cover different alphas and betas. Model 1 produced more diverse topics with informative weights. First, we compare a larger alpha beta versus a smaller alpha beta. Comparitively model 2 has more repeated topics of exact same words, these words all have a 0.000 weight. In a sense, a higher alpha beta means documents contain more similar content, and topics with more similar words. Looking at the alpha beta when using \"auto\", it seems to fall in between model 1 and model 2. Auto means it learns asymmetric prior from the corpus. The results have a better representation of topics. Although some still show little to no weight. "
      ]
    },
    {
      "cell_type": "markdown",
      "metadata": {
        "id": "lSsPpXqXG11h"
      },
      "source": [
        "## 1.7 LDA on a short text dataset"
      ]
    },
    {
      "cell_type": "markdown",
      "metadata": {
        "id": "pbrCxteDHM1b"
      },
      "source": [
        "**[10pts]1.7.1** In this part, we will read a dataset from twitter and build a LDA model. On Windows, download and unzip the dataset from [this link](http://cs.stanford.edu/people/alecmgo/trainingandtestdata.zip). Place the downloaded dataset in the same folder as this notebook. Use the first 10,000 lines in the \"training.1600000.processed.noemoticon.csv\" file. "
      ]
    },
    {
      "cell_type": "code",
      "execution_count": null,
      "metadata": {
        "ExecuteTime": {
          "end_time": "2023-02-24T02:09:24.794752Z",
          "start_time": "2023-02-24T02:09:24.470208Z"
        },
        "id": "Eg8B4xaRFxA3",
        "outputId": "4c7b3ce7-e536-4c0b-ae77-3c4a311f47fd"
      },
      "outputs": [
        {
          "name": "stdout",
          "output_type": "stream",
          "text": [
            "/bin/bash: wget: command not found\n",
            "unzip:  cannot find or open trainingandtestdata.zip, trainingandtestdata.zip.zip or trainingandtestdata.zip.ZIP.\n"
          ]
        },
        {
          "name": "stderr",
          "output_type": "stream",
          "text": [
            "/Users/wangsixuan/opt/anaconda3/lib/python3.8/site-packages/ipykernel/ipkernel.py:287: DeprecationWarning: `should_run_async` will not call `transform_cell` automatically in the future. Please pass the result to `transformed_cell` argument and any exception that happen during thetransform in `preprocessing_exc_tuple` in IPython 7.17 and above.\n",
            "  and should_run_async(code)\n"
          ]
        }
      ],
      "source": [
        "!wget http://cs.stanford.edu/people/alecmgo/trainingandtestdata.zip # Linux and OSX only\n",
        "!unzip trainingandtestdata.zip # Linux and OSX only"
      ]
    },
    {
      "cell_type": "code",
      "execution_count": null,
      "metadata": {
        "ExecuteTime": {
          "end_time": "2023-02-24T02:30:58.554684Z",
          "start_time": "2023-02-24T02:30:58.303207Z"
        },
        "id": "81FoZvt_HTq6",
        "outputId": "8bb80128-f2dd-4f8b-d41e-679c4ad7341c"
      },
      "outputs": [
        {
          "name": "stdout",
          "output_type": "stream",
          "text": [
            "head: training.1600000.processed.noemoticon.csv: No such file or directory\r\n"
          ]
        },
        {
          "name": "stderr",
          "output_type": "stream",
          "text": [
            "/Users/wangsixuan/opt/anaconda3/lib/python3.8/site-packages/ipykernel/ipkernel.py:287: DeprecationWarning: `should_run_async` will not call `transform_cell` automatically in the future. Please pass the result to `transformed_cell` argument and any exception that happen during thetransform in `preprocessing_exc_tuple` in IPython 7.17 and above.\n",
            "  and should_run_async(code)\n"
          ]
        }
      ],
      "source": [
        "!head -n 10000 training.1600000.processed.noemoticon.csv > twitter.csv # Linux and OSX only"
      ]
    },
    {
      "cell_type": "code",
      "execution_count": null,
      "metadata": {
        "ExecuteTime": {
          "end_time": "2023-02-24T04:10:54.682259Z",
          "start_time": "2023-02-24T04:10:54.547042Z"
        },
        "id": "uJSwYJflHWvp",
        "outputId": "7a2d4b8a-c241-4611-9045-31d0cd0560fa"
      },
      "outputs": [
        {
          "name": "stderr",
          "output_type": "stream",
          "text": [
            "/Users/wangsixuan/opt/anaconda3/lib/python3.8/site-packages/ipykernel/ipkernel.py:287: DeprecationWarning: `should_run_async` will not call `transform_cell` automatically in the future. Please pass the result to `transformed_cell` argument and any exception that happen during thetransform in `preprocessing_exc_tuple` in IPython 7.17 and above.\n",
            "  and should_run_async(code)\n"
          ]
        }
      ],
      "source": [
        "def read_twitter(fname):\n",
        "    \"\"\" Read the given dataset into list and clean stop words. \n",
        "    \n",
        "    Args: \n",
        "        fname (string): filename of Twitter Dataset\n",
        "        \n",
        "    Returns:\n",
        "        list of list of words: we view each document as a list, including a list of all words \n",
        "    \"\"\"\n",
        "    twitter = []\n",
        "    \n",
        "    with open(fname,encoding=\"utf-8\") as f:\n",
        "        sum=0\n",
        "        for line in f:\n",
        "            tweet = f.readline().split(\",\")[5]\n",
        "\n",
        "\n",
        "            line=tweet.split()\n",
        "            stopWords = set(stopwords.words('english'))\n",
        "            filtered_content = []\n",
        "            for word in line:\n",
        "                if (word not in stopWords):  \n",
        "\n",
        "                    filtered_content.append(word)\n",
        "            twitter.append(filtered_content)\n",
        "            sum+=1\n",
        "            if sum ==10000:\n",
        "                break\n",
        "    return twitter"
      ]
    },
    {
      "cell_type": "code",
      "execution_count": null,
      "metadata": {
        "ExecuteTime": {
          "end_time": "2023-02-24T04:11:01.882852Z",
          "start_time": "2023-02-24T04:11:00.240670Z"
        },
        "id": "1657cE1hHY8_",
        "outputId": "c46dbdb1-efb2-4e4a-f5ee-c0397c833540"
      },
      "outputs": [
        {
          "name": "stderr",
          "output_type": "stream",
          "text": [
            "/Users/wangsixuan/opt/anaconda3/lib/python3.8/site-packages/ipykernel/ipkernel.py:287: DeprecationWarning: `should_run_async` will not call `transform_cell` automatically in the future. Please pass the result to `transformed_cell` argument and any exception that happen during thetransform in `preprocessing_exc_tuple` in IPython 7.17 and above.\n",
            "  and should_run_async(code)\n"
          ]
        },
        {
          "name": "stdout",
          "output_type": "stream",
          "text": [
            "CPU times: user 1.19 s, sys: 364 ms, total: 1.56 s\n",
            "Wall time: 1.63 s\n"
          ]
        }
      ],
      "source": [
        "%%time\n",
        "twitter = read_twitter('./trainingandtestdata/training.1600000.processed.noemoticon.csv')"
      ]
    },
    {
      "cell_type": "code",
      "execution_count": null,
      "metadata": {
        "ExecuteTime": {
          "end_time": "2023-02-24T06:17:14.306012Z",
          "start_time": "2023-02-24T06:17:14.038386Z"
        },
        "id": "YzcgFZx_HZgK",
        "outputId": "985b0193-6b18-4a0c-a1d0-4f1178fd114f"
      },
      "outputs": [
        {
          "name": "stderr",
          "output_type": "stream",
          "text": [
            "/Users/wangsixuan/opt/anaconda3/lib/python3.8/site-packages/ipykernel/ipkernel.py:287: DeprecationWarning: `should_run_async` will not call `transform_cell` automatically in the future. Please pass the result to `transformed_cell` argument and any exception that happen during thetransform in `preprocessing_exc_tuple` in IPython 7.17 and above.\n",
            "  and should_run_async(code)\n"
          ]
        }
      ],
      "source": [
        "twitter_dictionary = corpora.Dictionary(twitter) # TODO: build dictionary\n",
        "twitter_corpus = [twitter_dictionary.doc2bow(i) for i in twitter] # TODO: build corpus for model"
      ]
    },
    {
      "cell_type": "code",
      "execution_count": null,
      "metadata": {
        "ExecuteTime": {
          "end_time": "2023-02-24T06:17:37.171510Z",
          "start_time": "2023-02-24T06:17:15.482872Z"
        },
        "id": "3WoNVLuJHcyu",
        "outputId": "f6451e39-7938-40db-b8cf-8735c6ab5b28"
      },
      "outputs": [
        {
          "name": "stderr",
          "output_type": "stream",
          "text": [
            "/Users/wangsixuan/opt/anaconda3/lib/python3.8/site-packages/ipykernel/ipkernel.py:287: DeprecationWarning: `should_run_async` will not call `transform_cell` automatically in the future. Please pass the result to `transformed_cell` argument and any exception that happen during thetransform in `preprocessing_exc_tuple` in IPython 7.17 and above.\n",
            "  and should_run_async(code)\n"
          ]
        },
        {
          "name": "stdout",
          "output_type": "stream",
          "text": [
            "[(0, '0.017*\"think\" + 0.016*\"work\" + 0.014*\"sorry\" + 0.012*\"right\" + 0.011*\"&amp;\"'), (1, '0.029*\"get\" + 0.029*\"go\" + 0.021*\"want\" + 0.014*\"one\" + 0.013*\"need\"'), (2, '0.018*\"-\" + 0.011*\"new\" + 0.010*\"love\" + 0.009*\"getting\" + 0.009*\"come\"'), (3, '0.019*\"home\" + 0.017*\"can\\'t\" + 0.013*\"today\" + 0.010*\"would\" + 0.009*\"twitter\"'), (4, '0.151*\"\"\" + 0.067*\"I\" + 0.014*\"\"I\" + 0.011*\"like\" + 0.010*\"I\\'m\"')]\n",
            "CPU times: user 21.5 s, sys: 79 ms, total: 21.6 s\n",
            "Wall time: 21.7 s\n"
          ]
        }
      ],
      "source": [
        "%%time\n",
        "lda_model_twitter = gensim.models.ldamodel.LdaModel(corpus=twitter_corpus,id2word=twitter_dictionary,num_topics=5, \n",
        "                                                    random_state=100,alpha='auto',per_word_topics=True)"
      ]
    },
    {
      "cell_type": "code",
      "execution_count": null,
      "metadata": {
        "ExecuteTime": {
          "end_time": "2023-02-24T04:41:41.287589Z",
          "start_time": "2023-02-24T04:41:41.281577Z"
        },
        "id": "6S3ecJbpTtp1",
        "outputId": "2fd7ae5a-bfe3-4945-9c08-903b981b07dd"
      },
      "outputs": [
        {
          "name": "stdout",
          "output_type": "stream",
          "text": [
            "[(0, '0.017*\"think\" + 0.016*\"work\" + 0.014*\"sorry\" + 0.012*\"right\" + 0.011*\"&amp;\"'), (1, '0.029*\"get\" + 0.029*\"go\" + 0.021*\"want\" + 0.014*\"one\" + 0.013*\"need\"'), (2, '0.018*\"-\" + 0.011*\"new\" + 0.010*\"love\" + 0.009*\"getting\" + 0.009*\"come\"'), (3, '0.019*\"home\" + 0.017*\"can\\'t\" + 0.013*\"today\" + 0.010*\"would\" + 0.009*\"twitter\"'), (4, '0.151*\"\"\" + 0.067*\"I\" + 0.014*\"\"I\" + 0.011*\"like\" + 0.010*\"I\\'m\"')]\n"
          ]
        },
        {
          "name": "stderr",
          "output_type": "stream",
          "text": [
            "/Users/wangsixuan/opt/anaconda3/lib/python3.8/site-packages/ipykernel/ipkernel.py:287: DeprecationWarning: `should_run_async` will not call `transform_cell` automatically in the future. Please pass the result to `transformed_cell` argument and any exception that happen during thetransform in `preprocessing_exc_tuple` in IPython 7.17 and above.\n",
            "  and should_run_async(code)\n"
          ]
        }
      ],
      "source": [
        "print_topic_words(lda_model_twitter,5)"
      ]
    },
    {
      "cell_type": "markdown",
      "metadata": {
        "id": "lzced6IXOU1Z"
      },
      "source": [
        "## 1.8 LDA visualization\n",
        "\n",
        "**[10pts]1.8.1** We will now visualize the LDA output using pyLDAvis. PyLDAVis shows the following:\n",
        "\n",
        "   1. The distances between topics, as a map in 2-D space.\n",
        "   2. The variance in the topic-word distribution, as the size of a circle in this map.\n",
        "   3. The most \"salient\" terms in each topic."
      ]
    },
    {
      "cell_type": "code",
      "execution_count": null,
      "metadata": {
        "ExecuteTime": {
          "end_time": "2023-02-24T05:01:34.345110Z",
          "start_time": "2023-02-24T05:01:30.359364Z"
        },
        "id": "iaSJ2dyHOVlM",
        "outputId": "4e9775a1-19b3-4080-ef3a-6d665587d3fd"
      },
      "outputs": [
        {
          "name": "stderr",
          "output_type": "stream",
          "text": [
            "/Users/wangsixuan/opt/anaconda3/lib/python3.8/site-packages/ipykernel/ipkernel.py:287: DeprecationWarning: `should_run_async` will not call `transform_cell` automatically in the future. Please pass the result to `transformed_cell` argument and any exception that happen during thetransform in `preprocessing_exc_tuple` in IPython 7.17 and above.\n",
            "  and should_run_async(code)\n"
          ]
        }
      ],
      "source": [
        "sentences = read_dataset(\"reviews_Cell_Phones_and_Accessories_5.json.gz\")[:1000] # CHANGE TO YOUR DATASET"
      ]
    },
    {
      "cell_type": "code",
      "execution_count": null,
      "metadata": {
        "ExecuteTime": {
          "end_time": "2023-02-27T00:49:45.195635Z",
          "start_time": "2023-02-27T00:49:43.558457Z"
        },
        "id": "5Dn0msKKPJXF",
        "outputId": "5ad39a1d-6c25-478b-c79c-784596e42962"
      },
      "outputs": [
        {
          "name": "stdout",
          "output_type": "stream",
          "text": [
            "CPU times: user 1.39 s, sys: 544 ms, total: 1.94 s\n",
            "Wall time: 1.63 s\n"
          ]
        }
      ],
      "source": [
        "%%time\n",
        "import pyLDAvis.gensim"
      ]
    },
    {
      "cell_type": "code",
      "execution_count": null,
      "metadata": {
        "ExecuteTime": {
          "end_time": "2023-02-25T20:25:07.595955Z",
          "start_time": "2023-02-25T20:25:03.505073Z"
        },
        "id": "Rw5D95-VTtp2",
        "outputId": "1db12237-d4d2-4297-9ccf-438815cd8515"
      },
      "outputs": [
        {
          "name": "stderr",
          "output_type": "stream",
          "text": [
            "/Users/wangsixuan/opt/anaconda3/lib/python3.8/site-packages/ipykernel/ipkernel.py:287: DeprecationWarning: `should_run_async` will not call `transform_cell` automatically in the future. Please pass the result to `transformed_cell` argument and any exception that happen during thetransform in `preprocessing_exc_tuple` in IPython 7.17 and above.\n",
            "  and should_run_async(code)\n"
          ]
        }
      ],
      "source": [
        "sentences_dictionary = corpora.Dictionary(sentences) # create a gensim dictionary, store it in variable \"dictionary\"\n",
        "sentences_corpus = [sentences_dictionary.doc2bow(i) for i in sentences]\n",
        "lda_model = gensim.models.ldamodel.LdaModel(corpus=sentences_corpus,\n",
        "                                           id2word=sentences_dictionary,\n",
        "                                           num_topics=5, \n",
        "                                           random_state=100,\n",
        "                                           update_every=1,\n",
        "                                           chunksize=100,\n",
        "                                           passes=10,\n",
        "                                           alpha='auto',\n",
        "                                           per_word_topics=True)"
      ]
    },
    {
      "cell_type": "code",
      "execution_count": null,
      "metadata": {
        "ExecuteTime": {
          "end_time": "2023-02-25T20:25:16.475390Z",
          "start_time": "2023-02-25T20:25:12.186112Z"
        },
        "id": "uZsFH15wPLo2",
        "outputId": "66ebb66f-570b-475a-8356-a50aee113605"
      },
      "outputs": [
        {
          "name": "stderr",
          "output_type": "stream",
          "text": [
            "/Users/wangsixuan/opt/anaconda3/lib/python3.8/site-packages/ipykernel/ipkernel.py:287: DeprecationWarning: `should_run_async` will not call `transform_cell` automatically in the future. Please pass the result to `transformed_cell` argument and any exception that happen during thetransform in `preprocessing_exc_tuple` in IPython 7.17 and above.\n",
            "  and should_run_async(code)\n",
            "/Users/wangsixuan/opt/anaconda3/lib/python3.8/site-packages/pyLDAvis/_prepare.py:243: FutureWarning: In a future version of pandas all arguments of DataFrame.drop except for the argument 'labels' will be keyword-only.\n",
            "  default_term_info = default_term_info.sort_values(\n"
          ]
        },
        {
          "name": "stdout",
          "output_type": "stream",
          "text": [
            "CPU times: user 332 ms, sys: 265 ms, total: 597 ms\n",
            "Wall time: 4.27 s\n"
          ]
        }
      ],
      "source": [
        "%%time\n",
        "import pyLDAvis\n",
        "import pyLDAvis.gensim_models\n",
        "pyLDAvis.enable_notebook()\n",
        "data = pyLDAvis.gensim_models.prepare(lda_model, sentences_corpus, sentences_dictionary)\n"
      ]
    },
    {
      "cell_type": "code",
      "execution_count": null,
      "metadata": {
        "ExecuteTime": {
          "end_time": "2023-02-25T20:25:16.517188Z",
          "start_time": "2023-02-25T20:25:16.479101Z"
        },
        "id": "D_BnRDcsPNyX",
        "outputId": "bc31a612-091a-43f6-8853-c24f942e098c"
      },
      "outputs": [
        {
          "name": "stderr",
          "output_type": "stream",
          "text": [
            "/Users/wangsixuan/opt/anaconda3/lib/python3.8/site-packages/ipykernel/ipkernel.py:287: DeprecationWarning: `should_run_async` will not call `transform_cell` automatically in the future. Please pass the result to `transformed_cell` argument and any exception that happen during thetransform in `preprocessing_exc_tuple` in IPython 7.17 and above.\n",
            "  and should_run_async(code)\n"
          ]
        },
        {
          "data": {
            "text/html": [
              "\n",
              "<link rel=\"stylesheet\" type=\"text/css\" href=\"https://cdn.jsdelivr.net/gh/bmabey/pyLDAvis@3.4.0/pyLDAvis/js/ldavis.v1.0.0.css\">\n",
              "\n",
              "\n",
              "<div id=\"ldavis_el298701405317815167528875293435\" style=\"background-color:white;\"></div>\n",
              "<script type=\"text/javascript\">\n",
              "\n",
              "var ldavis_el298701405317815167528875293435_data = {\"mdsDat\": {\"x\": [0.21167873134165854, 0.21838697839444507, -0.08210878854697964, -0.18207516643256952, -0.1658817547565548], \"y\": [-0.031098013500614315, -0.03459517583464192, 0.27385850579578036, -0.12926776486269986, -0.0788975515978242], \"topics\": [1, 2, 3, 4, 5], \"cluster\": [1, 1, 1, 1, 1], \"Freq\": [36.984574056161925, 32.538243075647024, 19.426006002873144, 8.354079722889827, 2.6970971424280803]}, \"tinfo\": {\"Term\": [\"phone\", \"case\", \"headset\", \"bluetooth\", \"one\", \"sound\", \"ear\", \"screen\", \"keyboard\", \"it\", \"thing\", \"cell\", \"quality\", \"but\", \"buttons\", \"adapter\", \"volume\", \"treo\", \"phones\", \"cases\", \"works\", \"its\", \"really\", \"feel\", \"use\", \"camera\", \"lg\", \"service\", \"get\", \"no\", \"headset\", \"sound\", \"ear\", \"volume\", \"unit\", \"button\", \"long\", \"hear\", \"keep\", \"call\", \"jabra\", \"light\", \"devices\", \"may\", \"something\", \"plastic\", \"connection\", \"bt\", \"clear\", \"comfortable\", \"on\", \"plantronics\", \"easily\", \"must\", \"earpiece\", \"range\", \"low\", \"blue\", \"talking\", \"home\", \"quality\", \"people\", \"way\", \"voice\", \"price\", \"use\", \"the\", \"great\", \"fit\", \"easy\", \"using\", \"motorola\", \"would\", \"time\", \"it\", \"good\", \"like\", \"this\", \"nice\", \"one\", \"even\", \"phone\", \"battery\", \"thing\", \"say\", \"hard\", \"they\", \"tried\", \"amazon\", \"item\", \"less\", \"design\", \"quite\", \"try\", \"kind\", \"working\", \"hub\", \"cheap\", \"away\", \"money\", \"almost\", \"review\", \"ones\", \"yet\", \"minutes\", \"else\", \"maybe\", \"quickly\", \"course\", \"system\", \"laptop\", \"read\", \"thought\", \"actually\", \"problems\", \"worth\", \"usb\", \"though\", \"order\", \"happy\", \"samsung\", \"power\", \"works\", \"two\", \"one\", \"bought\", \"much\", \"get\", \"it\", \"another\", \"well\", \"better\", \"work\", \"this\", \"my\", \"made\", \"used\", \"like\", \"really\", \"phone\", \"good\", \"the\", \"product\", \"also\", \"back\", \"great\", \"bluetooth\", \"screen\", \"cell\", \"camera\", \"service\", \"able\", \"day\", \"headsets\", \"numbers\", \"software\", \"book\", \"everything\", \"pictures\", \"email\", \"number\", \"cingular\", \"etc\", \"features\", \"gets\", \"data\", \"called\", \"batteries\", \"replacement\", \"feels\", \"full\", \"edge\", \"customer\", \"blackberry\", \"memory\", \"return\", \"reception\", \"keyboard\", \"palm\", \"keys\", \"but\", \"cable\", \"phone\", \"nokia\", \"phones\", \"very\", \"there\", \"looking\", \"new\", \"battery\", \"days\", \"many\", \"use\", \"ive\", \"the\", \"even\", \"feel\", \"lg\", \"size\", \"took\", \"microphone\", \"longer\", \"sometimes\", \"switch\", \"black\", \"key\", \"extremely\", \"slow\", \"hbs\", \"press\", \"color\", \"case\", \"text\", \"expensive\", \"highly\", \"protection\", \"box\", \"difficult\", \"rubber\", \"multiple\", \"built\", \"bulky\", \"tone\", \"smaller\", \"shipping\", \"lightweight\", \"buttons\", \"leather\", \"boxwave\", \"cases\", \"cover\", \"hs\", \"its\", \"no\", \"excellent\", \"looks\", \"really\", \"fits\", \"the\", \"phone\", \"treo\", \"adapter\", \"glass\", \"bezel\", \"iis\", \"cancel\", \"edges\", \"corner\", \"crackling\", \"realook\", \"therefore\", \"uncovered\", \"husband\", \"selling\", \"positive\", \"rounded\", \"lying\", \"matte\", \"crazy\", \"audible\", \"mistake\", \"graphics\", \"precision\", \"skin\", \"urls\", \"random\", \"closure\", \"opposed\", \"hotsync\", \"worthless\", \"tpu\", \"sides\", \"cases\", \"mixed\", \"distance\", \"theres\", \"sticky\", \"suitup\", \"flat\", \"magnetic\", \"flash\"], \"Freq\": [940.0, 191.0, 398.0, 200.0, 471.0, 201.0, 190.0, 108.0, 112.0, 587.0, 132.0, 88.0, 199.0, 100.0, 53.0, 34.0, 131.0, 33.0, 148.0, 49.0, 200.0, 118.0, 151.0, 41.0, 334.0, 61.0, 39.0, 60.0, 278.0, 63.0, 397.7877052630955, 201.00080406771912, 189.8217425532523, 130.89916112936223, 92.51166109762679, 89.04351182337896, 83.17001639965498, 75.41897344939532, 73.89647548726553, 93.73581006903356, 64.57633869176969, 62.59952744015896, 63.3479740983215, 57.79736697496944, 53.02718488348674, 52.58678497564574, 51.75533354249416, 49.508009207956675, 49.81178089688047, 48.31684450705618, 53.204972570535006, 47.71390082093708, 44.91953780104017, 43.42062354659979, 42.621081903282324, 42.124520948223605, 40.115022622888254, 40.04384170755117, 38.77947972545646, 39.43908283493484, 185.72772429037383, 88.16755860136715, 95.99778849103605, 73.00477083582565, 114.81288694577574, 246.13469847672647, 383.2190275808705, 206.94179516668757, 91.41966867663774, 87.21922653237525, 102.37166270539855, 105.77937587103091, 139.0565726698335, 123.33349124247047, 239.7553558415814, 155.5175525557392, 160.89434528440088, 135.294619229493, 83.5783190550765, 151.48706124800546, 104.60601554348104, 141.57161643755012, 91.68863633629985, 132.39878231882204, 81.1333723108421, 69.58266692975825, 66.52384406841841, 64.30656415172005, 59.69491846926641, 56.156862031994805, 53.55714377789582, 52.813783860394274, 48.33131515067681, 47.270083257976495, 44.32063825188747, 42.37052976654686, 54.2038009761068, 55.48068717346127, 68.43118050657864, 41.510217483793504, 42.29698903800818, 37.88993557709518, 37.866721292859495, 36.24490727629842, 35.73834029863706, 35.061743069657375, 35.380355198780826, 33.44533941738273, 32.89877194718288, 32.91921065420099, 31.734696873420088, 30.75967883393088, 30.25012107125319, 67.99942136879443, 80.9046808384167, 53.740255445317835, 85.5847062848146, 76.09781553575132, 42.81742183403038, 48.58528851123621, 43.03890485084144, 91.91233850301863, 158.39126649142048, 100.622630791756, 319.30079407946766, 126.69323338401426, 119.48629025813136, 189.7304778032295, 336.48909904701253, 67.31492380118384, 155.6320209310975, 111.9810329199944, 118.23252582577199, 155.2939636711483, 72.5117939060995, 73.4129956706161, 94.97409784460315, 139.0626294573149, 91.23561255161725, 217.2570597071623, 115.21523203572815, 127.14932105949688, 77.67090007055342, 79.90725906369084, 76.74394577654854, 76.85522631009488, 200.31720959668462, 107.68403103384173, 88.36037866778088, 61.41307141357027, 60.43844106389559, 57.724753855983934, 55.17494437531188, 54.15834434362367, 44.40901007675203, 39.459745652019336, 39.87511485902872, 40.783531767252555, 38.79903056012873, 38.36551755890944, 35.20596852253464, 34.65118148822316, 33.07256572327286, 31.416886263762468, 32.149602559386636, 29.174125977651975, 30.104870199544827, 28.680208911314566, 27.193817896231717, 30.157075335022633, 26.728078346434977, 31.557283927998732, 25.43532760546708, 25.397149988451226, 24.41247631020132, 24.80801582709937, 48.114162577741595, 104.98327383096331, 42.10080725030801, 40.908850029259305, 88.53348319281723, 46.65872528384623, 563.8630332828155, 41.64532716958668, 89.69642475249677, 41.34700524811033, 40.781932327551196, 40.76126449261137, 50.93507468623348, 85.44320238362923, 42.621672233896156, 42.473692841225656, 54.107243926257915, 41.66690759774951, 43.31455143377527, 40.12717310722122, 40.670549480883295, 39.00498577618283, 32.14531670756197, 28.84511905915031, 26.828233837295983, 26.00759337235693, 26.00782058443846, 23.02025436682496, 22.347365787375708, 20.75085803094515, 19.973788580985918, 21.872044309509377, 19.11273121787154, 20.125632349507622, 19.547708092315762, 185.91315431581785, 20.170857881553857, 21.08860879013857, 16.698726785484542, 17.243897388341757, 15.915668231612637, 15.723546990511093, 13.971580727898134, 14.963277808416581, 14.440685889770256, 13.264489500703386, 13.252071327665616, 13.256672372316586, 12.92868140480704, 13.166088079321767, 50.02606064252929, 13.279852135761338, 19.547319766212784, 33.055234996027046, 27.492075244771616, 14.706344321058783, 32.210648443259174, 24.167747673301538, 21.255380392416757, 21.75698617698728, 26.64513188304897, 17.09420387233707, 18.126163966484715, 17.813768010025594, 32.97094034040843, 33.67884756587738, 24.73330809200263, 7.9865002616113525, 7.129427756751033, 5.706559227588675, 5.369182832054288, 5.44366144110117, 5.945723021729106, 5.013007898222662, 4.709991625633528, 4.021212702281249, 3.2445672256171894, 4.343551334158859, 3.4422648032635137, 3.137642057386168, 3.1758213054960494, 3.028556586034697, 3.012003375907408, 2.6567163703378216, 2.6864094516444075, 2.616874799152311, 2.4843927681992346, 2.7703303425120094, 2.4514022154140744, 3.333805182962681, 2.925606255509938, 2.327034741783241, 2.3590199983948934, 2.4351695997381384, 15.799522747716093, 4.476155401065337, 14.351576163561417, 4.813742191918292, 3.3454952936901003, 5.632460063664663, 3.262845944101991, 2.8770982977593467, 3.4019119147705164, 3.0366759781146566, 3.0917562054758627], \"Total\": [940.0, 191.0, 398.0, 200.0, 471.0, 201.0, 190.0, 108.0, 112.0, 587.0, 132.0, 88.0, 199.0, 100.0, 53.0, 34.0, 131.0, 33.0, 148.0, 49.0, 200.0, 118.0, 151.0, 41.0, 334.0, 61.0, 39.0, 60.0, 278.0, 63.0, 398.2933322413198, 201.50655952628014, 190.32583164906146, 131.41645647342074, 93.01694657522958, 89.56587133010983, 83.6779431955495, 75.92623412526692, 74.40907523852142, 94.45274022797992, 65.08430602183633, 63.10953471106549, 63.86659073266155, 58.35674039642587, 53.546951139208275, 53.10344667821246, 52.2688462444524, 50.02078715392313, 50.32850163628946, 48.82591962378513, 53.7695141688225, 48.22353549070018, 45.43493774478184, 43.93881864112383, 43.133523551191, 42.63205160847921, 40.62568126487315, 40.55721303677446, 39.28648296174814, 39.96089124741956, 199.64425546404402, 92.11666363947344, 107.51087336472284, 79.46590049008779, 132.61694462712452, 334.37462024776727, 571.8920978316019, 298.8378084740836, 109.85382484896725, 104.30410993308196, 132.99104478917266, 146.11483589703482, 218.04297938752828, 194.26422933525635, 587.1189632673004, 300.19037623033404, 337.72414738730305, 305.9890234264673, 113.86289441239221, 471.25977222402594, 199.98884780739675, 940.5878635168704, 246.65031497084982, 132.90667642663362, 81.64162039017592, 70.08913709616121, 67.02635168810528, 64.80943687872664, 60.19746297094873, 56.651908164398385, 54.06308224837475, 53.32771639176098, 48.84180666143953, 47.773421863960145, 44.829940147267564, 42.86724487561307, 54.84952491748673, 56.14545338420106, 69.25353126542096, 42.00986326614214, 42.80997126440855, 38.39574458098141, 38.37802801903028, 36.75284620218105, 36.242436837873946, 35.566948265640285, 35.891388241663414, 33.952887976089386, 33.410353673167165, 33.434867041152756, 32.23713931480721, 31.265614498166755, 30.750919536212226, 69.23988656049771, 83.29937371095642, 54.992691516211856, 88.62168657141142, 79.6727516005761, 43.87426052752372, 50.27750063661234, 44.403865255843556, 101.68867672298076, 200.5978697694382, 119.55062155894699, 471.25977222402594, 162.8972511267629, 153.96135923785107, 278.2804245093832, 587.1189632673004, 77.58477934517705, 235.7947835606233, 160.55517476133457, 175.14707975024362, 305.9890234264673, 92.20482978703929, 95.32216710029213, 153.18729078366712, 337.72414738730305, 151.51300301712493, 940.5878635168704, 300.19037623033404, 571.8920978316019, 123.24308926148623, 170.89073736811093, 140.92648748860557, 298.8378084740836, 200.85450197467947, 108.22443957604453, 88.88768076899294, 61.94106709889906, 60.96130158326965, 58.271976269603186, 55.717754761618565, 54.732352330404716, 44.936462835463445, 39.98686626728494, 40.40808754355483, 41.32924663927085, 39.325887804116164, 38.90294275671479, 35.72898011649072, 35.183816421364654, 33.604056372694195, 31.944101140553585, 32.68993517370424, 29.695427911541486, 30.66160845075852, 29.216120570092176, 27.7229349540546, 30.745041139857413, 27.258860155858173, 32.18732400374608, 25.962799097179907, 25.925100720093393, 24.934176328138147, 25.36402043349281, 49.727837206234014, 112.51613135781034, 43.779858048953166, 43.10692011326356, 100.07650568243798, 50.979901344208095, 940.5878635168704, 47.073414224068955, 148.55782831761977, 49.33067678903484, 49.444649351855155, 51.54077488187668, 81.56865063211637, 246.65031497084982, 65.59132295464299, 80.52762777071531, 334.37462024776727, 149.50781140842818, 571.8920978316019, 199.98884780739675, 41.22849329927183, 39.63052303749745, 32.708683891100144, 29.40153358044612, 27.37852139081625, 26.554301090047318, 26.56652072336251, 23.565348993156302, 22.903954311796326, 21.320361213647065, 20.52613574881975, 22.481237667858323, 19.64648190223069, 20.692105616667625, 20.104407379049746, 191.2481881386401, 20.75788485356147, 21.74919085863552, 17.24042923011934, 17.83827208686886, 16.491064705066687, 16.31542045961004, 14.517739329372775, 15.560403022482442, 15.031447290255883, 13.807420252898071, 13.797129276207695, 13.822598095367544, 13.481799067153787, 13.732049199548243, 53.941574822240305, 13.88189576091089, 22.67665013068425, 49.29477444859819, 42.79401145488206, 16.292572943077662, 118.00471696375251, 63.281270986909604, 52.30150217796681, 63.24382227490566, 151.51300301712493, 43.095630770779394, 571.8920978316019, 940.5878635168704, 33.6135858117029, 34.36055040437332, 25.311609217018447, 8.574195338692409, 7.713358679775869, 6.285031258095421, 5.94776566586727, 6.038769594185447, 6.637342706526584, 5.602740693406185, 5.362634977075354, 4.612351518973286, 3.8404850575861347, 5.146259487449485, 4.080607881229784, 3.7220758807326533, 3.7797291083130533, 3.622095236374787, 3.6508085260955125, 3.2324600346250594, 3.2697943788822443, 3.2104548870854837, 3.0629283048354408, 3.4169146766993466, 3.035241210779402, 4.138686082328882, 3.6555691110989277, 2.9104542562600506, 2.9577597768370483, 3.066582845164597, 24.361182331465223, 7.821400576103109, 49.29477444859819, 9.377640219528013, 5.747131671906514, 24.580225124747642, 9.99699284013604, 5.1539699428614085, 19.864504308809277, 9.621456627973156, 21.79033969128436], \"Category\": [\"Default\", \"Default\", \"Default\", \"Default\", \"Default\", \"Default\", \"Default\", \"Default\", \"Default\", \"Default\", \"Default\", \"Default\", \"Default\", \"Default\", \"Default\", \"Default\", \"Default\", \"Default\", \"Default\", \"Default\", \"Default\", \"Default\", \"Default\", \"Default\", \"Default\", \"Default\", \"Default\", \"Default\", \"Default\", \"Default\", \"Topic1\", \"Topic1\", \"Topic1\", \"Topic1\", \"Topic1\", \"Topic1\", \"Topic1\", \"Topic1\", \"Topic1\", \"Topic1\", \"Topic1\", \"Topic1\", \"Topic1\", \"Topic1\", \"Topic1\", \"Topic1\", \"Topic1\", \"Topic1\", \"Topic1\", \"Topic1\", \"Topic1\", \"Topic1\", \"Topic1\", \"Topic1\", \"Topic1\", \"Topic1\", \"Topic1\", \"Topic1\", \"Topic1\", \"Topic1\", \"Topic1\", \"Topic1\", \"Topic1\", \"Topic1\", \"Topic1\", \"Topic1\", \"Topic1\", \"Topic1\", \"Topic1\", \"Topic1\", \"Topic1\", \"Topic1\", \"Topic1\", \"Topic1\", \"Topic1\", \"Topic1\", \"Topic1\", \"Topic1\", \"Topic1\", \"Topic1\", \"Topic1\", \"Topic1\", \"Topic1\", \"Topic2\", \"Topic2\", \"Topic2\", \"Topic2\", \"Topic2\", \"Topic2\", \"Topic2\", \"Topic2\", \"Topic2\", \"Topic2\", \"Topic2\", \"Topic2\", \"Topic2\", \"Topic2\", \"Topic2\", \"Topic2\", \"Topic2\", \"Topic2\", \"Topic2\", \"Topic2\", \"Topic2\", \"Topic2\", \"Topic2\", \"Topic2\", \"Topic2\", \"Topic2\", \"Topic2\", \"Topic2\", \"Topic2\", \"Topic2\", \"Topic2\", \"Topic2\", \"Topic2\", \"Topic2\", \"Topic2\", \"Topic2\", \"Topic2\", \"Topic2\", \"Topic2\", \"Topic2\", \"Topic2\", \"Topic2\", \"Topic2\", \"Topic2\", \"Topic2\", \"Topic2\", \"Topic2\", \"Topic2\", \"Topic2\", \"Topic2\", \"Topic2\", \"Topic2\", \"Topic2\", \"Topic2\", \"Topic2\", \"Topic2\", \"Topic2\", \"Topic2\", \"Topic2\", \"Topic2\", \"Topic2\", \"Topic2\", \"Topic2\", \"Topic3\", \"Topic3\", \"Topic3\", \"Topic3\", \"Topic3\", \"Topic3\", \"Topic3\", \"Topic3\", \"Topic3\", \"Topic3\", \"Topic3\", \"Topic3\", \"Topic3\", \"Topic3\", \"Topic3\", \"Topic3\", \"Topic3\", \"Topic3\", \"Topic3\", \"Topic3\", \"Topic3\", \"Topic3\", \"Topic3\", \"Topic3\", \"Topic3\", \"Topic3\", \"Topic3\", \"Topic3\", \"Topic3\", \"Topic3\", \"Topic3\", \"Topic3\", \"Topic3\", \"Topic3\", \"Topic3\", \"Topic3\", \"Topic3\", \"Topic3\", \"Topic3\", \"Topic3\", \"Topic3\", \"Topic3\", \"Topic3\", \"Topic3\", \"Topic3\", \"Topic3\", \"Topic3\", \"Topic3\", \"Topic3\", \"Topic3\", \"Topic4\", \"Topic4\", \"Topic4\", \"Topic4\", \"Topic4\", \"Topic4\", \"Topic4\", \"Topic4\", \"Topic4\", \"Topic4\", \"Topic4\", \"Topic4\", \"Topic4\", \"Topic4\", \"Topic4\", \"Topic4\", \"Topic4\", \"Topic4\", \"Topic4\", \"Topic4\", \"Topic4\", \"Topic4\", \"Topic4\", \"Topic4\", \"Topic4\", \"Topic4\", \"Topic4\", \"Topic4\", \"Topic4\", \"Topic4\", \"Topic4\", \"Topic4\", \"Topic4\", \"Topic4\", \"Topic4\", \"Topic4\", \"Topic4\", \"Topic4\", \"Topic4\", \"Topic4\", \"Topic4\", \"Topic4\", \"Topic4\", \"Topic4\", \"Topic5\", \"Topic5\", \"Topic5\", \"Topic5\", \"Topic5\", \"Topic5\", \"Topic5\", \"Topic5\", \"Topic5\", \"Topic5\", \"Topic5\", \"Topic5\", \"Topic5\", \"Topic5\", \"Topic5\", \"Topic5\", \"Topic5\", \"Topic5\", \"Topic5\", \"Topic5\", \"Topic5\", \"Topic5\", \"Topic5\", \"Topic5\", \"Topic5\", \"Topic5\", \"Topic5\", \"Topic5\", \"Topic5\", \"Topic5\", \"Topic5\", \"Topic5\", \"Topic5\", \"Topic5\", \"Topic5\", \"Topic5\", \"Topic5\", \"Topic5\", \"Topic5\", \"Topic5\", \"Topic5\"], \"logprob\": [30.0, 29.0, 28.0, 27.0, 26.0, 25.0, 24.0, 23.0, 22.0, 21.0, 20.0, 19.0, 18.0, 17.0, 16.0, 15.0, 14.0, 13.0, 12.0, 11.0, 10.0, 9.0, 8.0, 7.0, 6.0, 5.0, 4.0, 3.0, 2.0, 1.0, -3.8993, -4.5819, -4.6391, -5.0108, -5.3579, -5.3961, -5.4643, -5.5621, -5.5825, -5.3447, -5.7174, -5.7484, -5.7366, -5.8283, -5.9144, -5.9227, -5.9387, -5.9831, -5.977, -6.0074, -5.9111, -6.02, -6.0803, -6.1143, -6.1329, -6.1446, -6.1935, -6.1952, -6.2273, -6.2104, -4.6609, -5.406, -5.3209, -5.5947, -5.1419, -4.3793, -3.9366, -4.5528, -5.3697, -5.4168, -5.2566, -5.2239, -4.9503, -5.0703, -4.4056, -4.8384, -4.8045, -4.9778, -5.4594, -4.8647, -5.235, -4.9324, -5.3668, -4.8713, -5.361, -5.5146, -5.5596, -5.5935, -5.6679, -5.729, -5.7764, -5.7903, -5.879, -5.9012, -5.9657, -6.0107, -5.7644, -5.7411, -5.5313, -6.0312, -6.0124, -6.1224, -6.123, -6.1668, -6.1809, -6.2, -6.191, -6.2472, -6.2637, -6.2631, -6.2997, -6.3309, -6.3476, -5.5376, -5.3638, -5.773, -5.3076, -5.4251, -6.0002, -5.8738, -5.995, -5.2363, -4.6921, -5.1457, -3.991, -4.9154, -4.9739, -4.5115, -3.9386, -5.5477, -4.7096, -5.0388, -4.9845, -4.7118, -5.4734, -5.461, -5.2035, -4.8222, -5.2437, -4.376, -5.0103, -4.9118, -5.4046, -5.3763, -5.4166, -5.4152, -3.9414, -4.5621, -4.7599, -5.1237, -5.1397, -5.1856, -5.2308, -5.2494, -5.4479, -5.566, -5.5556, -5.533, -5.5829, -5.5942, -5.6801, -5.696, -5.7426, -5.794, -5.7709, -5.868, -5.8366, -5.8851, -5.9383, -5.8349, -5.9556, -5.7895, -6.0052, -6.0067, -6.0462, -6.0302, -5.3677, -4.5875, -5.5013, -5.53, -4.7579, -5.3985, -2.9065, -5.5121, -4.7449, -5.5193, -5.5331, -5.5336, -5.3108, -4.7935, -5.489, -5.4924, -5.2504, -5.5116, -5.4728, -5.5493, -4.692, -4.7338, -4.9272, -5.0355, -5.108, -5.1391, -5.1391, -5.2611, -5.2907, -5.3649, -5.403, -5.3122, -5.4471, -5.3955, -5.4246, -3.1722, -5.3932, -5.3487, -5.5821, -5.55, -5.6302, -5.6423, -5.7604, -5.6919, -5.7274, -5.8124, -5.8133, -5.813, -5.838, -5.8198, -4.4849, -5.8112, -5.4246, -4.8993, -5.0836, -5.7092, -4.9252, -5.2124, -5.3408, -5.3175, -5.1148, -5.5587, -5.5001, -5.5175, -3.7713, -3.75, -4.0587, -5.1891, -5.3027, -5.5253, -5.5862, -5.5724, -5.4842, -5.6548, -5.7172, -5.8753, -6.0899, -5.7982, -6.0308, -6.1234, -6.1113, -6.1588, -6.1643, -6.2898, -6.2787, -6.3049, -6.3569, -6.2479, -6.3702, -6.0628, -6.1934, -6.4223, -6.4086, -6.3769, -4.5069, -5.7681, -4.603, -5.6954, -6.0593, -5.5383, -6.0843, -6.2101, -6.0425, -6.1561, -6.1381], \"loglift\": [30.0, 29.0, 28.0, 27.0, 26.0, 25.0, 24.0, 23.0, 22.0, 21.0, 20.0, 19.0, 18.0, 17.0, 16.0, 15.0, 14.0, 13.0, 12.0, 11.0, 10.0, 9.0, 8.0, 7.0, 6.0, 5.0, 4.0, 3.0, 2.0, 1.0, 0.9934, 0.9922, 0.992, 0.9907, 0.9892, 0.9888, 0.9886, 0.988, 0.9878, 0.987, 0.9868, 0.9866, 0.9865, 0.985, 0.9849, 0.9849, 0.9848, 0.9844, 0.9843, 0.9842, 0.9841, 0.984, 0.9833, 0.9828, 0.9827, 0.9827, 0.982, 0.9819, 0.9817, 0.9815, 0.9224, 0.9509, 0.8814, 0.9099, 0.8505, 0.6883, 0.5943, 0.6272, 0.811, 0.8158, 0.733, 0.6716, 0.5449, 0.5403, 0.0991, 0.337, 0.2532, 0.1786, 0.6855, -0.1402, 0.3466, -0.899, 0.0051, 1.1189, 1.1165, 1.1155, 1.1152, 1.115, 1.1144, 1.114, 1.1134, 1.1131, 1.1122, 1.1122, 1.1113, 1.1111, 1.1109, 1.1108, 1.1108, 1.1108, 1.1107, 1.1095, 1.1093, 1.1088, 1.1087, 1.1084, 1.1084, 1.1077, 1.1073, 1.1072, 1.107, 1.1064, 1.1063, 1.1047, 1.0936, 1.0997, 1.0879, 1.0768, 1.0984, 1.0885, 1.0915, 1.0217, 0.8865, 0.9504, 0.7335, 0.8714, 0.8693, 0.7397, 0.5661, 0.9808, 0.7073, 0.7624, 0.7298, 0.4445, 0.8825, 0.8616, 0.6447, 0.2354, 0.6155, -0.3427, 0.1651, -0.3808, 0.6611, 0.3626, 0.515, -0.2352, 1.6359, 1.6336, 1.6326, 1.63, 1.6299, 1.6291, 1.6288, 1.628, 1.6268, 1.6253, 1.6253, 1.6253, 1.6251, 1.6246, 1.6238, 1.6233, 1.6226, 1.6219, 1.6219, 1.6208, 1.6202, 1.62, 1.6193, 1.6192, 1.6189, 1.6188, 1.618, 1.618, 1.6174, 1.6164, 1.6056, 1.5693, 1.5995, 1.5862, 1.516, 1.55, 1.1269, 1.516, 1.134, 1.462, 1.4459, 1.4039, 1.1677, 0.5784, 1.2075, 0.9988, -0.1827, 0.3609, -0.9419, 0.0323, 2.4688, 2.4665, 2.465, 2.4633, 2.4621, 2.4616, 2.4612, 2.459, 2.4578, 2.4553, 2.4551, 2.4549, 2.4549, 2.4547, 2.4543, 2.4541, 2.4537, 2.4516, 2.4505, 2.4485, 2.4469, 2.4455, 2.4441, 2.4433, 2.4423, 2.4423, 2.4421, 2.4406, 2.4405, 2.4403, 2.4071, 2.4381, 2.3339, 2.0828, 2.0399, 2.38, 1.184, 1.5198, 1.582, 1.4154, 0.7444, 1.5577, -0.9692, -1.4841, 3.5937, 3.593, 3.5899, 3.542, 3.5343, 3.5164, 3.5107, 3.5092, 3.503, 3.5018, 3.4832, 3.4758, 3.4444, 3.4434, 3.4429, 3.4422, 3.4389, 3.434, 3.4207, 3.4168, 3.4165, 3.4086, 3.4037, 3.4032, 3.3994, 3.3967, 3.3902, 3.3893, 3.3868, 3.3824, 3.18, 3.0549, 2.379, 2.9461, 3.0719, 2.1396, 2.4933, 3.03, 1.8484, 2.4598, 1.6603]}, \"token.table\": {\"Topic\": [3, 1, 2, 5, 2, 1, 2, 3, 2, 2, 3, 5, 2, 1, 2, 4, 3, 1, 2, 3, 4, 1, 2, 5, 4, 3, 1, 3, 3, 1, 2, 4, 4, 5, 1, 4, 4, 3, 4, 1, 3, 4, 3, 4, 1, 3, 3, 5, 2, 4, 1, 4, 5, 3, 2, 3, 1, 5, 4, 1, 1, 5, 2, 3, 4, 5, 5, 3, 3, 3, 1, 2, 3, 2, 1, 4, 1, 5, 1, 1, 1, 1, 3, 4, 3, 5, 2, 3, 3, 1, 2, 3, 3, 3, 4, 4, 4, 3, 4, 3, 1, 2, 4, 1, 4, 3, 5, 2, 3, 5, 3, 1, 2, 3, 3, 5, 1, 2, 3, 4, 5, 1, 2, 3, 1, 2, 2, 4, 1, 3, 1, 4, 1, 5, 1, 4, 2, 5, 5, 1, 2, 3, 4, 2, 2, 3, 4, 1, 2, 3, 1, 1, 4, 1, 3, 3, 4, 2, 2, 4, 2, 4, 1, 4, 1, 2, 3, 4, 1, 4, 3, 4, 1, 4, 1, 5, 1, 2, 3, 2, 5, 1, 2, 3, 5, 1, 2, 3, 4, 2, 5, 1, 5, 2, 1, 2, 4, 1, 2, 3, 4, 4, 1, 1, 2, 1, 3, 4, 1, 3, 4, 2, 4, 2, 3, 3, 3, 1, 1, 2, 2, 5, 2, 4, 2, 3, 1, 2, 1, 2, 3, 4, 1, 2, 3, 3, 1, 1, 5, 1, 2, 5, 4, 1, 2, 2, 4, 1, 2, 4, 1, 2, 3, 2, 2, 5, 1, 2, 1, 2, 3, 4, 5, 3, 4, 3, 3, 2, 5, 4, 2, 4, 2, 3, 5, 3, 4, 1, 5, 4, 5, 4, 4, 3, 1, 4, 1, 3, 5, 4, 5, 4, 2, 1, 4, 1, 2, 3, 4, 3, 4, 5, 1, 5, 2, 2, 1, 2, 3, 4, 2, 3, 2, 1, 2, 3, 4, 4, 4, 5, 5, 2, 2, 1, 2, 5, 1, 5, 1, 2, 1, 2, 3, 1, 2, 1, 2, 3, 3, 4, 1, 3, 1, 1, 2, 1, 2, 3, 4, 1, 2, 2, 1, 2, 2, 3, 5, 1, 2, 3, 2], \"Freq\": [0.9953326403699636, 0.014442542437244741, 0.9820928857326424, 0.9895068501484938, 0.98107984564143, 0.41547014831506573, 0.4681353783831727, 0.11118215236600351, 0.9967197459626492, 0.8635714448824421, 0.12889126043021523, 0.9280857204311814, 0.9818993884858134, 0.41865799007280563, 0.5463841565356955, 0.03547949068413607, 0.9926026944756857, 0.3729976992361552, 0.24731369188484206, 0.3446174395116652, 0.03243458254227437, 0.29896264677455614, 0.697579509140631, 0.9330321603356455, 0.9605328276728723, 0.9643164078673612, 0.9862610619652484, 0.9957456668071738, 0.9899008448960877, 0.22099820439563847, 0.7796325543957247, 0.9702223771570181, 0.8819644826171913, 0.1322946723925787, 0.9995844296920166, 0.9313807067051675, 0.9415227292202829, 0.889319619955698, 0.10991590808441211, 0.9936820652587165, 0.07415430515667454, 0.9269288144584318, 0.9219319528035874, 0.07846229385562446, 0.9952067009714367, 0.9784222523152678, 0.9848070570467168, 0.9546491900532258, 0.026144038532670374, 0.9725582334153379, 0.020286125886279156, 0.6694421542472121, 0.28400576240790815, 0.9900134556182212, 0.9795984658568385, 0.9947755405734485, 0.993472850857682, 0.8206656498140034, 0.9948067417715308, 0.9830844020932114, 0.9948564725688597, 0.8279832376473434, 0.9877177692525676, 0.3505163337121264, 0.6309294006818276, 0.9039762244158529, 0.8217357822401212, 0.9629162058537638, 0.976581313675187, 0.9871180243229579, 0.21344286666821968, 0.1372132714295698, 0.655574519052389, 0.9938546704427866, 0.9864312354437549, 0.9806673410353791, 0.34799968300300554, 0.5219995245045083, 0.998288032442899, 0.9969044135466343, 0.9904272402170994, 0.8340994430211456, 0.11504819903739939, 0.03834939967913313, 0.9941801933045358, 0.8406518146291037, 0.9840596876232985, 0.9767898597707254, 0.9820243018879996, 0.5250292761380492, 0.27501533511993054, 0.2000111528144949, 0.9920335678473752, 0.5927172014011378, 0.4015181041749643, 0.9655531617932328, 0.9743675207424269, 0.9704452118906225, 0.9944578789815763, 0.9757671119557699, 0.8283735238632932, 0.09103005756739485, 0.08192705181065536, 0.6033094198873884, 0.3944715437725232, 0.8260541255903225, 0.13767568759838708, 0.5537515474333708, 0.2517052488333504, 0.15102314930001023, 0.9905036324197679, 0.2874797971903429, 0.6827645183270643, 0.03234147718391357, 0.9788945689234886, 0.9876890791752215, 0.5196702238059167, 0.3830902290876949, 0.05996194890068269, 0.039974632600455126, 0.9344470193516599, 0.6926834360651252, 0.25766485302905623, 0.050194451888777185, 0.019889612397951915, 0.9745910074996438, 0.9987282323644687, 0.9670942662687467, 0.9992635271103608, 0.9866193887303857, 0.9878008683567953, 0.9860543361821117, 0.9759542087920372, 0.6761874360664774, 0.06137765983885786, 0.9206648975828678, 0.9845117178541707, 0.7811513272455209, 0.9075164646956886, 0.40877575928463766, 0.5722860629984927, 0.011922626312468598, 0.006812929321410628, 0.9884927412770174, 0.4745573011051881, 0.24575288807232956, 0.27117560063153606, 0.5016460296854566, 0.21403563933246145, 0.28092177662385565, 0.9987046643501424, 0.9945023474998161, 0.984973931237056, 0.062213301466430955, 0.9331995219964644, 0.9511233902183773, 0.04639626293748182, 0.98148692270074, 0.9926439094830513, 0.9364715182926123, 0.9988331732903252, 0.9840899642706996, 0.9982643714366304, 0.9466904619324896, 0.4767204277382177, 0.4115785059354799, 0.07698590758505379, 0.035531957346947904, 0.9918981852366376, 0.9791257511102384, 0.7954866820292386, 0.19402114195835088, 0.6482846628368361, 0.3478600629856194, 0.9845988732891935, 0.7937076742885795, 0.19932404579104215, 0.7658239654076883, 0.020981478504320226, 0.6236061993519533, 0.31180309967597664, 0.31045245826912965, 0.16143527829994742, 0.5215601298921377, 0.8282498952188188, 0.9938869033122398, 0.97516428632792, 0.9625343016811856, 0.986174513027456, 0.9933106915807439, 0.9174888853486648, 0.4265465411725216, 0.5331831764656519, 0.9997652154666714, 0.7254567912234237, 0.1710982998168452, 0.10265897989010712, 0.07794163457248711, 0.7729212095104971, 0.1299027242874785, 0.01299027242874785, 0.9639853144116677, 0.9786335028988431, 0.206062958349181, 0.7917155768152744, 0.24519223801068146, 0.6252402069272377, 0.1348557309058748, 0.7377293580450025, 0.15808486243821482, 0.1053899082921432, 0.6162960919047843, 0.3792591334798672, 0.10621706715812142, 0.8922233641282199, 0.9795969514351109, 0.9791602904106552, 0.9856886531203086, 0.3204177587392673, 0.6769090399856044, 0.9901498842295172, 0.6871779536470058, 0.9800734982877884, 0.022792406936925313, 0.022841554188728377, 0.9593452759265919, 0.9553103263098492, 0.04342319665044769, 0.1509694155196306, 0.23070678287154817, 0.5996250024864201, 0.019136968164460217, 0.026925541691737144, 0.37022619826138575, 0.6058246880640857, 0.9917131482005079, 0.9953645976300661, 0.9980519780789502, 0.7351845821304158, 0.08850542941489647, 0.9047221673522751, 0.6529699036189005, 0.9665521900240964, 0.8671591727840088, 0.12818874728111435, 0.972396266520141, 0.024009784358522, 0.36513203514821835, 0.6328955275902451, 0.9530071027739324, 0.9316571597197729, 0.06511582299116692, 0.005008909460858994, 0.9719349948446083, 0.9827646289320389, 0.7248677334599556, 0.9851742624473296, 0.991504580913248, 0.19800280769703452, 0.6006085166810048, 0.019800280769703454, 0.17820252692733107, 0.8924203838104546, 0.9652541251881067, 0.02010946094141889, 0.9739228564633317, 0.9856481572214739, 0.9896930093347523, 0.8060018377189774, 0.9643374689663102, 0.9683841654830081, 0.022520561987976934, 0.9921410135282772, 0.9979261655045409, 0.7772635658491489, 0.9842309537640601, 0.9642629989696544, 0.3835630167269483, 0.511417355635931, 0.9783334635701141, 0.8779850490436959, 0.9785938089811508, 0.9404888943676061, 0.9753202398835555, 0.9897855783089061, 0.9786753888752805, 0.9974861387764695, 0.6001804838662215, 0.30009024193311074, 0.3880503810019562, 0.5820755715029343, 0.9760093095451084, 0.9869936063864855, 0.9927078491086341, 0.9634893025513898, 0.6697067531658347, 0.22206986332130813, 0.07518900884107282, 0.03147446881719328, 0.8292100467380843, 0.1617970822903579, 0.932377463947187, 0.7322959781144316, 0.24409865937147718, 0.9996068458532862, 0.9931780972106836, 0.4411922966656418, 0.5065541183938851, 0.01960854651847297, 0.029412819777709456, 0.9539020364328731, 0.0376540277539292, 0.9755805827097969, 0.6331582526587006, 0.2728242877309848, 0.08750967719673099, 0.9422249904128756, 0.9863431076019393, 0.32839128623355424, 0.6567825724671085, 0.9817458983656164, 0.9875105089982299, 0.9838106245317209, 0.1589284919830521, 0.8448304047520138, 0.8672365893071402, 0.9998178119595027, 0.6589262141332193, 0.0338517592709387, 0.9704170991002427, 0.7357017701215397, 0.10168235847208272, 0.16149551051448433, 0.37862148813577673, 0.6201558857396343, 0.7669689351015929, 0.19550188541805308, 0.03759651642654867, 0.8311258362689528, 0.16217089488174688, 0.9186330180591823, 0.07550408367609718, 0.9968310173276893, 0.892932937809248, 0.10231523245730967, 0.30110929057828695, 0.6615922440875037, 0.008481951847275689, 0.02968683146546491, 0.32544076716141035, 0.6737194828955512, 0.9797690549479088, 0.20937410775235885, 0.7876454529731595, 0.9819486646526618, 0.01818423453060485, 0.6521917394645346, 0.6374889959330219, 0.29810636500465054, 0.06420752477023242, 0.9795159754964401], \"Term\": [\"able\", \"actually\", \"actually\", \"adapter\", \"almost\", \"also\", \"also\", \"also\", \"amazon\", \"another\", \"another\", \"audible\", \"away\", \"back\", \"back\", \"back\", \"batteries\", \"battery\", \"battery\", \"battery\", \"battery\", \"better\", \"better\", \"bezel\", \"black\", \"blackberry\", \"blue\", \"bluetooth\", \"book\", \"bought\", \"bought\", \"box\", \"boxwave\", \"boxwave\", \"bt\", \"built\", \"bulky\", \"but\", \"but\", \"button\", \"buttons\", \"buttons\", \"cable\", \"cable\", \"call\", \"called\", \"camera\", \"cancel\", \"case\", \"case\", \"cases\", \"cases\", \"cases\", \"cell\", \"cheap\", \"cingular\", \"clear\", \"closure\", \"color\", \"comfortable\", \"connection\", \"corner\", \"course\", \"cover\", \"cover\", \"crackling\", \"crazy\", \"customer\", \"data\", \"day\", \"days\", \"days\", \"days\", \"design\", \"devices\", \"difficult\", \"distance\", \"distance\", \"ear\", \"earpiece\", \"easily\", \"easy\", \"easy\", \"easy\", \"edge\", \"edges\", \"else\", \"email\", \"etc\", \"even\", \"even\", \"even\", \"everything\", \"excellent\", \"excellent\", \"expensive\", \"extremely\", \"features\", \"feel\", \"feels\", \"fit\", \"fit\", \"fit\", \"fits\", \"fits\", \"flash\", \"flash\", \"flat\", \"flat\", \"flat\", \"full\", \"get\", \"get\", \"get\", \"gets\", \"glass\", \"good\", \"good\", \"good\", \"good\", \"graphics\", \"great\", \"great\", \"great\", \"happy\", \"happy\", \"hard\", \"hbs\", \"headset\", \"headsets\", \"hear\", \"highly\", \"home\", \"hotsync\", \"hs\", \"hs\", \"hub\", \"husband\", \"iis\", \"it\", \"it\", \"it\", \"it\", \"item\", \"its\", \"its\", \"its\", \"ive\", \"ive\", \"ive\", \"jabra\", \"keep\", \"key\", \"keyboard\", \"keyboard\", \"keys\", \"keys\", \"kind\", \"laptop\", \"leather\", \"less\", \"lg\", \"light\", \"lightweight\", \"like\", \"like\", \"like\", \"like\", \"long\", \"longer\", \"looking\", \"looking\", \"looks\", \"looks\", \"low\", \"lying\", \"made\", \"made\", \"made\", \"magnetic\", \"magnetic\", \"many\", \"many\", \"many\", \"matte\", \"may\", \"maybe\", \"memory\", \"microphone\", \"minutes\", \"mistake\", \"mixed\", \"mixed\", \"money\", \"motorola\", \"motorola\", \"motorola\", \"much\", \"much\", \"much\", \"much\", \"multiple\", \"must\", \"my\", \"my\", \"new\", \"new\", \"new\", \"nice\", \"nice\", \"nice\", \"no\", \"no\", \"nokia\", \"nokia\", \"number\", \"numbers\", \"on\", \"one\", \"one\", \"ones\", \"opposed\", \"order\", \"order\", \"palm\", \"palm\", \"people\", \"people\", \"phone\", \"phone\", \"phone\", \"phone\", \"phones\", \"phones\", \"phones\", \"pictures\", \"plantronics\", \"plastic\", \"positive\", \"power\", \"power\", \"precision\", \"press\", \"price\", \"price\", \"problems\", \"problems\", \"product\", \"product\", \"protection\", \"quality\", \"quality\", \"quality\", \"quickly\", \"quite\", \"random\", \"range\", \"read\", \"really\", \"really\", \"really\", \"really\", \"realook\", \"reception\", \"reception\", \"replacement\", \"return\", \"review\", \"rounded\", \"rubber\", \"samsung\", \"samsung\", \"say\", \"screen\", \"selling\", \"service\", \"shipping\", \"sides\", \"sides\", \"size\", \"skin\", \"slow\", \"smaller\", \"software\", \"something\", \"sometimes\", \"sound\", \"sticky\", \"sticky\", \"suitup\", \"suitup\", \"switch\", \"system\", \"talking\", \"text\", \"the\", \"the\", \"the\", \"the\", \"there\", \"there\", \"therefore\", \"theres\", \"theres\", \"they\", \"thing\", \"this\", \"this\", \"this\", \"this\", \"though\", \"though\", \"thought\", \"time\", \"time\", \"time\", \"tone\", \"took\", \"tpu\", \"tpu\", \"treo\", \"tried\", \"try\", \"two\", \"two\", \"uncovered\", \"unit\", \"urls\", \"usb\", \"usb\", \"use\", \"use\", \"use\", \"used\", \"used\", \"using\", \"using\", \"using\", \"very\", \"very\", \"voice\", \"voice\", \"volume\", \"way\", \"way\", \"well\", \"well\", \"well\", \"well\", \"work\", \"work\", \"working\", \"works\", \"works\", \"worth\", \"worth\", \"worthless\", \"would\", \"would\", \"would\", \"yet\"]}, \"R\": 30, \"lambda.step\": 0.01, \"plot.opts\": {\"xlab\": \"PC1\", \"ylab\": \"PC2\"}, \"topic.order\": [3, 4, 5, 1, 2]};\n",
              "\n",
              "function LDAvis_load_lib(url, callback){\n",
              "  var s = document.createElement('script');\n",
              "  s.src = url;\n",
              "  s.async = true;\n",
              "  s.onreadystatechange = s.onload = callback;\n",
              "  s.onerror = function(){console.warn(\"failed to load library \" + url);};\n",
              "  document.getElementsByTagName(\"head\")[0].appendChild(s);\n",
              "}\n",
              "\n",
              "if(typeof(LDAvis) !== \"undefined\"){\n",
              "   // already loaded: just create the visualization\n",
              "   !function(LDAvis){\n",
              "       new LDAvis(\"#\" + \"ldavis_el298701405317815167528875293435\", ldavis_el298701405317815167528875293435_data);\n",
              "   }(LDAvis);\n",
              "}else if(typeof define === \"function\" && define.amd){\n",
              "   // require.js is available: use it to load d3/LDAvis\n",
              "   require.config({paths: {d3: \"https://d3js.org/d3.v5\"}});\n",
              "   require([\"d3\"], function(d3){\n",
              "      window.d3 = d3;\n",
              "      LDAvis_load_lib(\"https://cdn.jsdelivr.net/gh/bmabey/pyLDAvis@3.4.0/pyLDAvis/js/ldavis.v3.0.0.js\", function(){\n",
              "        new LDAvis(\"#\" + \"ldavis_el298701405317815167528875293435\", ldavis_el298701405317815167528875293435_data);\n",
              "      });\n",
              "    });\n",
              "}else{\n",
              "    // require.js not available: dynamically load d3 & LDAvis\n",
              "    LDAvis_load_lib(\"https://d3js.org/d3.v5.js\", function(){\n",
              "         LDAvis_load_lib(\"https://cdn.jsdelivr.net/gh/bmabey/pyLDAvis@3.4.0/pyLDAvis/js/ldavis.v3.0.0.js\", function(){\n",
              "                 new LDAvis(\"#\" + \"ldavis_el298701405317815167528875293435\", ldavis_el298701405317815167528875293435_data);\n",
              "            })\n",
              "         });\n",
              "}\n",
              "</script>"
            ],
            "text/plain": [
              "<IPython.core.display.HTML object>"
            ]
          },
          "execution_count": 230,
          "metadata": {},
          "output_type": "execute_result"
        }
      ],
      "source": [
        "pyLDAvis.enable_notebook()\n",
        "pyLDAvis.display(data)"
      ]
    },
    {
      "cell_type": "markdown",
      "metadata": {
        "id": "Ukn2e3iWRoIz"
      },
      "source": [
        "# 2.word2Vec [40pts]\n",
        "\n",
        "\n",
        "In this problem, we use Amazon Review Dataset to perform Word2Vec and Doc2Vec to extract insights relevant for e-commerce business. For this question, download and use the dataset [here](http://snap.stanford.edu/data/amazon/productGraph/categoryFiles/reviews_Electronics_5.json.gz||reviews_Electronics_5.json.gz)."
      ]
    },
    {
      "cell_type": "markdown",
      "metadata": {
        "id": "-UKcbiFCRuJr"
      },
      "source": [
        "## 2.1 Data Cleaning\n",
        "\n"
      ]
    },
    {
      "cell_type": "markdown",
      "metadata": {
        "id": "mcw3Abp6R549"
      },
      "source": [
        "The following code reads the data from a GZIP file."
      ]
    },
    {
      "cell_type": "code",
      "execution_count": null,
      "metadata": {
        "ExecuteTime": {
          "end_time": "2023-02-27T00:52:08.669969Z",
          "start_time": "2023-02-27T00:52:08.662920Z"
        },
        "id": "T-HJ5AnnRpFB",
        "outputId": "d6236ad7-a031-415f-f0e1-baf98c8758e3"
      },
      "outputs": [
        {
          "name": "stderr",
          "output_type": "stream",
          "text": [
            "/Users/wangsixuan/opt/anaconda3/lib/python3.8/site-packages/ipykernel/ipkernel.py:287: DeprecationWarning: `should_run_async` will not call `transform_cell` automatically in the future. Please pass the result to `transformed_cell` argument and any exception that happen during thetransform in `preprocessing_exc_tuple` in IPython 7.17 and above.\n",
            "  and should_run_async(code)\n"
          ]
        }
      ],
      "source": [
        "# A function to read the zipped data at a specfic path\n",
        "#\n",
        "# How to use:\n",
        "# PATH = \"/path/to/file\"\n",
        "# for line in parse(PATH):\n",
        "#   do something with line\n",
        "#\n",
        "def parse(path):\n",
        "    g = gzip.open(path, 'r')\n",
        "    for l in g:\n",
        "        yield eval(l)"
      ]
    },
    {
      "cell_type": "markdown",
      "metadata": {
        "id": "O543cF24R81Z"
      },
      "source": [
        "We will now read the data and preprocess it using the following steps:\n",
        "\n",
        "   1. Remove stopwords\n",
        "   2. Lower-case all words\n",
        "   3. Remove words with less than 2 characters\n",
        "   4. Remove punctuation\n",
        "   5. Split each sentence into a list of words\n",
        "\n",
        "   And finally extract 10000 reviews."
      ]
    },
    {
      "cell_type": "code",
      "execution_count": null,
      "metadata": {
        "ExecuteTime": {
          "end_time": "2023-02-25T17:19:19.755003Z",
          "start_time": "2023-02-25T17:19:19.727784Z"
        },
        "id": "4_GNZ3ikR_rE",
        "outputId": "de9f5855-0f87-4c93-bc19-6927ef8345f0"
      },
      "outputs": [
        {
          "name": "stderr",
          "output_type": "stream",
          "text": [
            "/Users/wangsixuan/opt/anaconda3/lib/python3.8/site-packages/ipykernel/ipkernel.py:287: DeprecationWarning: `should_run_async` will not call `transform_cell` automatically in the future. Please pass the result to `transformed_cell` argument and any exception that happen during thetransform in `preprocessing_exc_tuple` in IPython 7.17 and above.\n",
            "  and should_run_async(code)\n"
          ]
        }
      ],
      "source": [
        "# A function to clean a single line of text\n",
        "def clean_line(line):\n",
        "    \"\"\" Clean stopwords and punction for each line\n",
        "    \n",
        "    Args: \n",
        "        line (string): one line in file\n",
        "        \n",
        "    Returns:\n",
        "        list(str): a list of all words in the sentence\n",
        "    \"\"\"\n",
        "    punctuationRegex = r'\\W+|\\d+'\n",
        "    stopWords = set(stopwords.words('english'))\n",
        "    line = line.split(\" \")\n",
        "    filtered_content = []\n",
        "    for word in line:\n",
        "        if (word not in stopWords):  \n",
        "            word = re.sub(punctuationRegex, '', word)\n",
        "            if (len(word)>=2):\n",
        "                filtered_content.append(word.lower())\n",
        "\n",
        "    return filtered_content\n",
        "\n",
        "def read_dataset(fname):\n",
        "    \"\"\" Read the 100000 lines in given dataset into list and clean stop words. \n",
        "        \n",
        "    Args: \n",
        "        fname (string): filename of Amazon Review Dataset\n",
        "        \n",
        "    Returns:\n",
        "        list of list of words: we view each document as a list, including a list of all words \n",
        "    \"\"\"\n",
        "    count = 0\n",
        "    exp_dataset = []\n",
        "    for review in parse(fname):\n",
        "        line = review[\"reviewText\"]\n",
        "        new_line = clean_line(line)\n",
        "        exp_dataset.append(new_line)\n",
        "        count += 1\n",
        "        if count > 100000:\n",
        "            break\n",
        "    return exp_dataset    "
      ]
    },
    {
      "cell_type": "code",
      "execution_count": null,
      "metadata": {
        "ExecuteTime": {
          "end_time": "2023-02-25T17:20:01.196989Z",
          "start_time": "2023-02-25T17:19:22.740536Z"
        },
        "id": "zaf3YFgHTNr3",
        "outputId": "3c3f76c9-efc8-4a23-8638-ba531d3d63aa"
      },
      "outputs": [
        {
          "name": "stderr",
          "output_type": "stream",
          "text": [
            "/Users/wangsixuan/opt/anaconda3/lib/python3.8/site-packages/ipykernel/ipkernel.py:287: DeprecationWarning: `should_run_async` will not call `transform_cell` automatically in the future. Please pass the result to `transformed_cell` argument and any exception that happen during thetransform in `preprocessing_exc_tuple` in IPython 7.17 and above.\n",
            "  and should_run_async(code)\n"
          ]
        },
        {
          "name": "stdout",
          "output_type": "stream",
          "text": [
            "CPU times: user 29.7 s, sys: 6.25 s, total: 36 s\n",
            "Wall time: 38.5 s\n"
          ]
        }
      ],
      "source": [
        "%%time\n",
        "r = read_dataset(\"reviews_Electronics_5.json.gz\")"
      ]
    },
    {
      "cell_type": "markdown",
      "metadata": {
        "id": "JamafEPNS3Ii"
      },
      "source": [
        "## 2.2 Build a doc2vec model"
      ]
    },
    {
      "cell_type": "markdown",
      "metadata": {
        "id": "BFMVOQgrTi9s"
      },
      "source": [
        "**[3pts]2.2.1** In this question, first we will build a Word2Vec model using ginsim using size=300, min_count=40, win- dow=10, negative=10, max_vocab_size=10000. Train the model for 30 epochs."
      ]
    },
    {
      "cell_type": "code",
      "execution_count": null,
      "metadata": {
        "ExecuteTime": {
          "end_time": "2023-02-24T15:50:24.277256Z",
          "start_time": "2023-02-24T15:47:24.896059Z"
        },
        "id": "5gGK2QnKTfdO",
        "outputId": "b2fabc06-96b1-4ded-dea0-ab35763c8b0d"
      },
      "outputs": [
        {
          "name": "stderr",
          "output_type": "stream",
          "text": [
            "/Users/wangsixuan/opt/anaconda3/lib/python3.8/site-packages/ipykernel/ipkernel.py:287: DeprecationWarning: `should_run_async` will not call `transform_cell` automatically in the future. Please pass the result to `transformed_cell` argument and any exception that happen during thetransform in `preprocessing_exc_tuple` in IPython 7.17 and above.\n",
            "  and should_run_async(code)\n"
          ]
        }
      ],
      "source": [
        "from gensim.models import Word2Vec\n",
        "model = Word2Vec(sentences=r, vector_size=300, window=10, min_count=40, negative=10, max_vocab_size=10000,epochs=30)"
      ]
    },
    {
      "cell_type": "markdown",
      "metadata": {
        "id": "IPnJE0pQT6jr"
      },
      "source": [
        "**[2pts]2.2.2** Use model.wv.doesnt_match to find a word in [\"Canon\",\"Nikon\",\"junk\"] that does not\n",
        "\n",
        "belong."
      ]
    },
    {
      "cell_type": "code",
      "execution_count": null,
      "metadata": {
        "ExecuteTime": {
          "end_time": "2023-02-24T16:06:14.379262Z",
          "start_time": "2023-02-24T16:06:14.229394Z"
        },
        "id": "pGQT-f_OTqnX",
        "outputId": "10c67e8c-b7c9-483b-a708-15ba3aaa3f91"
      },
      "outputs": [
        {
          "name": "stderr",
          "output_type": "stream",
          "text": [
            "/Users/wangsixuan/opt/anaconda3/lib/python3.8/site-packages/ipykernel/ipkernel.py:287: DeprecationWarning: `should_run_async` will not call `transform_cell` automatically in the future. Please pass the result to `transformed_cell` argument and any exception that happen during thetransform in `preprocessing_exc_tuple` in IPython 7.17 and above.\n",
            "  and should_run_async(code)\n"
          ]
        },
        {
          "data": {
            "text/plain": [
              "'junk'"
            ]
          },
          "execution_count": 148,
          "metadata": {},
          "output_type": "execute_result"
        }
      ],
      "source": [
        "# YOUR CODE HERE [\"Canon\", \"Nikon\", \"junk\"]\n",
        "import gensim\n",
        "model.wv.doesnt_match([\"Canon\", \"Nikon\", \"junk\"])"
      ]
    },
    {
      "cell_type": "markdown",
      "metadata": {
        "id": "a44R5v_-UFXp"
      },
      "source": [
        "**[3pts]2.2.3** Come up with 3 other word lists and apply the above function. Explain your observation."
      ]
    },
    {
      "cell_type": "code",
      "execution_count": null,
      "metadata": {
        "ExecuteTime": {
          "end_time": "2023-02-24T16:08:28.194735Z",
          "start_time": "2023-02-24T16:08:28.186089Z"
        },
        "id": "GP9dTi1yUNGR",
        "outputId": "c492f369-6379-4e96-ed3b-e3180c915521"
      },
      "outputs": [
        {
          "name": "stderr",
          "output_type": "stream",
          "text": [
            "/Users/wangsixuan/opt/anaconda3/lib/python3.8/site-packages/ipykernel/ipkernel.py:287: DeprecationWarning: `should_run_async` will not call `transform_cell` automatically in the future. Please pass the result to `transformed_cell` argument and any exception that happen during thetransform in `preprocessing_exc_tuple` in IPython 7.17 and above.\n",
            "  and should_run_async(code)\n"
          ]
        },
        {
          "data": {
            "text/plain": [
              "'one'"
            ]
          },
          "execution_count": 151,
          "metadata": {},
          "output_type": "execute_result"
        }
      ],
      "source": [
        "model.wv.doesnt_match([\"japan\", \"china\", \"one\"])"
      ]
    },
    {
      "cell_type": "markdown",
      "metadata": {
        "id": "mlZKiD_DUN00"
      },
      "source": [
        "-We chose \"japan\", \"china\" and \"one\". As the first two are countries, it is expected that \"one\" would be the one that doesn't match. The relevency between \"one\" and countries are not that close."
      ]
    },
    {
      "cell_type": "markdown",
      "metadata": {
        "id": "SLz_WXiHUG4L"
      },
      "source": [
        "**[2pts]2.2.4** What are some tasks in e-commerce that can be solved with this simple function?"
      ]
    },
    {
      "cell_type": "markdown",
      "metadata": {
        "id": "IjaKCXMEUYyM"
      },
      "source": [
        "-New product labels and tags; This function can use the product description as a frame of reference, and label a newly listed product with the most relevant tags and labels. This way it can advertise the product in a more accurate and automated way."
      ]
    },
    {
      "cell_type": "markdown",
      "metadata": {
        "id": "2ZmhD59iUtR3"
      },
      "source": [
        "## 2.3 Build a doc2vec model"
      ]
    },
    {
      "cell_type": "markdown",
      "metadata": {
        "id": "cRC20sS1VYJN"
      },
      "source": [
        "**[15 pts] 2.3.1**  Each review is marked by other customers as “helpful” or not. The \"helpful: [a, b]\" item in each review is (a) the number of people who marked the review as helpful, and (b) the total number of people who have marked the review as helpful or unhelpful. The \"helpfulness\" score of a review can be calculated as a/b. Define a \"helpful\" review as one with helpfulness score >= 0.8. Given a review that is only slightly helpful, could we find textually similar reviews but have higher helpfulness? Build Doc2Vec model with gensim on review data. Use product ID “B00006I5WJ” and ReviewerID with “A14453U0KFWF31” as an example, find top 5 helpful reviews of the same product with similarity score above 0.8. "
      ]
    },
    {
      "cell_type": "code",
      "execution_count": null,
      "metadata": {
        "ExecuteTime": {
          "end_time": "2023-02-25T17:20:37.755255Z",
          "start_time": "2023-02-25T17:20:37.744919Z"
        },
        "id": "xGDDL9a4UBGi",
        "outputId": "b555a81c-6594-4534-e93f-47829100b4fc"
      },
      "outputs": [
        {
          "name": "stderr",
          "output_type": "stream",
          "text": [
            "/Users/wangsixuan/opt/anaconda3/lib/python3.8/site-packages/ipykernel/ipkernel.py:287: DeprecationWarning: `should_run_async` will not call `transform_cell` automatically in the future. Please pass the result to `transformed_cell` argument and any exception that happen during thetransform in `preprocessing_exc_tuple` in IPython 7.17 and above.\n",
            "  and should_run_async(code)\n"
          ]
        }
      ],
      "source": [
        "import os\n",
        "def read_reviewers_data(fname, min_count=0):\n",
        "    '''\n",
        "    Save all reviews into their own product asin files.\n",
        "    Make sure you have 'product' folder when you run this answer.\n",
        "    In each file, you can choose your own log structure. In this answer, log strucutre is like \n",
        "        \"reviewText\"\\t\"reviewerID\"\\t\"helpful\"\n",
        "    Args: \n",
        "        fname: dataset file path\n",
        "        min_count: minimum number of reviews of a product\n",
        "    Returns:\n",
        "        none\n",
        "    '''\n",
        "    if not os.path.isdir('product'):\n",
        "        os.makedirs('product')\n",
        "    asin_list = []\n",
        "    tmp_list = []\n",
        "    last_asin = \"\"\n",
        "    j = 0\n",
        "    for i in parse(fname):\n",
        "        if last_asin != i['asin']:\n",
        "            if len(tmp_list) > min_count:\n",
        "                f = open(\"product/\" + last_asin+\".txt\", 'w')\n",
        "                for one in tmp_list:\n",
        "                    f.write(one)\n",
        "                f.close()\n",
        "            tmp_list = []\n",
        "            last_asin = i['asin']\n",
        "        tmp_list.append(i[\"reviewText\"] + '\\t' + i[\"reviewerID\"] +\n",
        "                    '\\t' + handle_helpful(i[\"helpful\"]) + \"\\n\")\n",
        "        j += 1\n",
        "        if j > 100000:\n",
        "            break\n",
        "            \n",
        "def handle_helpful(helpful):\n",
        "    '''\n",
        "    Helper function for helpful_score calculate\n",
        "    Args: \n",
        "        helpful: list. The first element is the number of people think this is helpful. The second element\n",
        "            is the total number of people evaluate this comment\n",
        "    Returns:\n",
        "        String: number represent helpfulness\n",
        "    '''\n",
        "    if helpful[1] != 0:\n",
        "        helpfulness = 1.0 * helpful[0] / helpful[1]\n",
        "        return str(helpfulness)\n",
        "    else:\n",
        "        return str(0)"
      ]
    },
    {
      "cell_type": "code",
      "execution_count": null,
      "metadata": {
        "ExecuteTime": {
          "end_time": "2023-02-25T17:20:51.592342Z",
          "start_time": "2023-02-25T17:20:39.770271Z"
        },
        "id": "ZcaWNGSyban3",
        "outputId": "af5af9b8-8b4e-473d-9630-e1759214004a"
      },
      "outputs": [
        {
          "name": "stderr",
          "output_type": "stream",
          "text": [
            "/Users/wangsixuan/opt/anaconda3/lib/python3.8/site-packages/ipykernel/ipkernel.py:287: DeprecationWarning: `should_run_async` will not call `transform_cell` automatically in the future. Please pass the result to `transformed_cell` argument and any exception that happen during thetransform in `preprocessing_exc_tuple` in IPython 7.17 and above.\n",
            "  and should_run_async(code)\n"
          ]
        }
      ],
      "source": [
        "data=read_reviewers_data(\"reviews_Electronics_5.json.gz\")"
      ]
    },
    {
      "cell_type": "code",
      "execution_count": null,
      "metadata": {
        "ExecuteTime": {
          "end_time": "2023-02-25T17:20:54.785447Z",
          "start_time": "2023-02-25T17:20:54.776667Z"
        },
        "id": "phyr9d9Zbvbe",
        "outputId": "6293c27a-3793-41eb-934c-9ad89b295f78"
      },
      "outputs": [
        {
          "name": "stderr",
          "output_type": "stream",
          "text": [
            "/Users/wangsixuan/opt/anaconda3/lib/python3.8/site-packages/ipykernel/ipkernel.py:287: DeprecationWarning: `should_run_async` will not call `transform_cell` automatically in the future. Please pass the result to `transformed_cell` argument and any exception that happen during thetransform in `preprocessing_exc_tuple` in IPython 7.17 and above.\n",
            "  and should_run_async(code)\n"
          ]
        }
      ],
      "source": [
        "class TaggedReviewDocument(object):\n",
        "    '''\n",
        "    This class could save all products and review information in its dictionary and generate iter for TaggedDocument\n",
        "        which could used for Doc2Vec model\n",
        "    '''\n",
        "    def __init__(self, dirname):\n",
        "        self.dirname = dirname\n",
        "        self.helpfulness = {}  # key:reviewerID value:helpfulness\n",
        "        self.product = {}      # key:asin value:reviewerID\n",
        "        self.asin = []\n",
        "\n",
        "    def __iter__(self):\n",
        "        for filename in os.listdir(self.dirname):\n",
        "            asin_code = filename[:-4] #delete \".txt\"\n",
        "            self.product[asin_code] = []\n",
        "            self.asin.append(asin_code)\n",
        "            for line in enumerate(open(self.dirname + \"/\" + filename)):\n",
        "                line_content = line[1].split(\"\\t\")\n",
        "                self.product[asin_code].append(line_content[1])\n",
        "                self.helpfulness[line_content[1]] = float(line_content[2])\n",
        "                yield TaggedDocument(clean_line(line_content[0]), [line_content[1], line_content[2]])\n"
      ]
    },
    {
      "cell_type": "code",
      "execution_count": null,
      "metadata": {
        "ExecuteTime": {
          "end_time": "2023-02-25T17:20:57.383314Z",
          "start_time": "2023-02-25T17:20:57.379692Z"
        },
        "id": "59Ccalf7bwE2",
        "outputId": "685c0ea5-5f4d-4ed0-c3bb-76272981a963"
      },
      "outputs": [
        {
          "name": "stderr",
          "output_type": "stream",
          "text": [
            "/Users/wangsixuan/opt/anaconda3/lib/python3.8/site-packages/ipykernel/ipkernel.py:287: DeprecationWarning: `should_run_async` will not call `transform_cell` automatically in the future. Please pass the result to `transformed_cell` argument and any exception that happen during thetransform in `preprocessing_exc_tuple` in IPython 7.17 and above.\n",
            "  and should_run_async(code)\n"
          ]
        }
      ],
      "source": [
        "documents = TaggedReviewDocument(\"product\")"
      ]
    },
    {
      "cell_type": "code",
      "execution_count": null,
      "metadata": {
        "ExecuteTime": {
          "end_time": "2023-02-25T23:18:08.249593Z",
          "start_time": "2023-02-25T23:10:16.199243Z"
        },
        "id": "crSL0O9HbyPI",
        "outputId": "8e6995e4-43e3-477b-95e4-3b026d7933a5"
      },
      "outputs": [
        {
          "name": "stderr",
          "output_type": "stream",
          "text": [
            "/Users/wangsixuan/opt/anaconda3/lib/python3.8/site-packages/ipykernel/ipkernel.py:287: DeprecationWarning: `should_run_async` will not call `transform_cell` automatically in the future. Please pass the result to `transformed_cell` argument and any exception that happen during thetransform in `preprocessing_exc_tuple` in IPython 7.17 and above.\n",
            "  and should_run_async(code)\n"
          ]
        },
        {
          "name": "stdout",
          "output_type": "stream",
          "text": [
            "CPU times: user 7min 5s, sys: 1min 12s, total: 8min 17s\n",
            "Wall time: 7min 52s\n"
          ]
        }
      ],
      "source": [
        "%%time\n",
        "from gensim.models.doc2vec import TaggedDocument, Doc2Vec\n",
        "d2v_model = Doc2Vec(vector_size=4, min_count=40, epochs=10)\n",
        "d2v_model.build_vocab(documents)\n",
        "d2v_model.train(documents, total_examples=d2v_model.corpus_count, epochs=10)\n",
        "#model=gensim.models.Doc2Vec(documents)\n",
        "# YOUR CODE HERE"
      ]
    },
    {
      "cell_type": "code",
      "execution_count": null,
      "metadata": {
        "id": "aSQ9JYrJTtp7"
      },
      "outputs": [],
      "source": [
        "#d2v_model.save(\"d2v.model\")"
      ]
    },
    {
      "cell_type": "code",
      "execution_count": null,
      "metadata": {
        "id": "VbRKl270Ttp7"
      },
      "outputs": [],
      "source": [
        "#gensim.models.Doc2Vec.load(\"d2v.model\")"
      ]
    },
    {
      "cell_type": "markdown",
      "metadata": {
        "id": "HbabO2WUcZxJ"
      },
      "source": [
        "### Find similar reviews"
      ]
    },
    {
      "cell_type": "code",
      "execution_count": null,
      "metadata": {
        "ExecuteTime": {
          "end_time": "2023-02-26T20:27:05.112862Z",
          "start_time": "2023-02-26T20:27:04.981281Z"
        },
        "id": "yCI8l3_9b0ru",
        "outputId": "da51f81f-5d09-492e-96a0-fc8d756de1b1"
      },
      "outputs": [
        {
          "name": "stderr",
          "output_type": "stream",
          "text": [
            "/Users/wangsixuan/opt/anaconda3/lib/python3.8/site-packages/ipykernel/ipkernel.py:287: DeprecationWarning: `should_run_async` will not call `transform_cell` automatically in the future. Please pass the result to `transformed_cell` argument and any exception that happen during thetransform in `preprocessing_exc_tuple` in IPython 7.17 and above.\n",
            "  and should_run_async(code)\n"
          ]
        }
      ],
      "source": [
        "def find_similar_reviews(asin,reviewer_id):\n",
        "    '''\n",
        "    If one review is similar to the specefic review and it is much helpful, save it to a list\n",
        "    Args: \n",
        "        asin: product asin\n",
        "        reviewer_id: the specific review\n",
        "    Returns:\n",
        "        list of reviewer id\n",
        "    '''\n",
        "    result = []\n",
        "    sim_to_ref_set = {}\n",
        "    id_list=documents.product[asin]\n",
        "    for id in id_list:\n",
        "        if (d2v_model.docvecs.similarity(reviewer_id,id)>0.8) and (documents.helpfulness[id]>0.8) and (id != reviewer_id):\n",
        "            sim_to_ref_set[id]=documents.helpfulness[id]\n",
        "    sims_ranked = sorted(sim_to_ref_set.items(), key=lambda it:it[1], reverse=True)\n",
        "    for i in range(5):\n",
        "        result.append(sims_ranked[i][0])\n",
        "        \n",
        "    return result"
      ]
    },
    {
      "cell_type": "code",
      "execution_count": null,
      "metadata": {
        "ExecuteTime": {
          "end_time": "2023-02-25T23:30:19.352065Z",
          "start_time": "2023-02-25T23:30:19.332688Z"
        },
        "id": "TU-cVz3cc6gO",
        "outputId": "cfdbda88-cfdc-4a2d-c348-ae83b2f69e2a"
      },
      "outputs": [
        {
          "name": "stdout",
          "output_type": "stream",
          "text": [
            "['A1ZJSYEQQDIDAA', 'A5C7KD02LS69I', 'A1MSY5U64K1Y3D', 'A3GTQ229J3PFN8', 'A3I4TQNEO4G6LT']\n"
          ]
        },
        {
          "name": "stderr",
          "output_type": "stream",
          "text": [
            "/Users/wangsixuan/opt/anaconda3/lib/python3.8/site-packages/ipykernel/ipkernel.py:287: DeprecationWarning: `should_run_async` will not call `transform_cell` automatically in the future. Please pass the result to `transformed_cell` argument and any exception that happen during thetransform in `preprocessing_exc_tuple` in IPython 7.17 and above.\n",
            "  and should_run_async(code)\n",
            "<ipython-input-272-696bd3585e88>:14: DeprecationWarning: Call to deprecated `docvecs` (The `docvecs` property has been renamed `dv`.).\n",
            "  if (d2v_model.docvecs.similarity(reviewer_id,id)>0.8) and (documents.helpfulness[id]>0.8) and (id != reviewer_id):\n",
            "<ipython-input-272-696bd3585e88>:14: DeprecationWarning: Call to deprecated `docvecs` (The `docvecs` property has been renamed `dv`.).\n",
            "  if (d2v_model.docvecs.similarity(reviewer_id,id)>0.8) and (documents.helpfulness[id]>0.8) and (id != reviewer_id):\n",
            "<ipython-input-272-696bd3585e88>:14: DeprecationWarning: Call to deprecated `docvecs` (The `docvecs` property has been renamed `dv`.).\n",
            "  if (d2v_model.docvecs.similarity(reviewer_id,id)>0.8) and (documents.helpfulness[id]>0.8) and (id != reviewer_id):\n",
            "<ipython-input-272-696bd3585e88>:14: DeprecationWarning: Call to deprecated `docvecs` (The `docvecs` property has been renamed `dv`.).\n",
            "  if (d2v_model.docvecs.similarity(reviewer_id,id)>0.8) and (documents.helpfulness[id]>0.8) and (id != reviewer_id):\n",
            "<ipython-input-272-696bd3585e88>:14: DeprecationWarning: Call to deprecated `docvecs` (The `docvecs` property has been renamed `dv`.).\n",
            "  if (d2v_model.docvecs.similarity(reviewer_id,id)>0.8) and (documents.helpfulness[id]>0.8) and (id != reviewer_id):\n",
            "<ipython-input-272-696bd3585e88>:14: DeprecationWarning: Call to deprecated `docvecs` (The `docvecs` property has been renamed `dv`.).\n",
            "  if (d2v_model.docvecs.similarity(reviewer_id,id)>0.8) and (documents.helpfulness[id]>0.8) and (id != reviewer_id):\n",
            "<ipython-input-272-696bd3585e88>:14: DeprecationWarning: Call to deprecated `docvecs` (The `docvecs` property has been renamed `dv`.).\n",
            "  if (d2v_model.docvecs.similarity(reviewer_id,id)>0.8) and (documents.helpfulness[id]>0.8) and (id != reviewer_id):\n",
            "<ipython-input-272-696bd3585e88>:14: DeprecationWarning: Call to deprecated `docvecs` (The `docvecs` property has been renamed `dv`.).\n",
            "  if (d2v_model.docvecs.similarity(reviewer_id,id)>0.8) and (documents.helpfulness[id]>0.8) and (id != reviewer_id):\n",
            "<ipython-input-272-696bd3585e88>:14: DeprecationWarning: Call to deprecated `docvecs` (The `docvecs` property has been renamed `dv`.).\n",
            "  if (d2v_model.docvecs.similarity(reviewer_id,id)>0.8) and (documents.helpfulness[id]>0.8) and (id != reviewer_id):\n",
            "<ipython-input-272-696bd3585e88>:14: DeprecationWarning: Call to deprecated `docvecs` (The `docvecs` property has been renamed `dv`.).\n",
            "  if (d2v_model.docvecs.similarity(reviewer_id,id)>0.8) and (documents.helpfulness[id]>0.8) and (id != reviewer_id):\n",
            "<ipython-input-272-696bd3585e88>:14: DeprecationWarning: Call to deprecated `docvecs` (The `docvecs` property has been renamed `dv`.).\n",
            "  if (d2v_model.docvecs.similarity(reviewer_id,id)>0.8) and (documents.helpfulness[id]>0.8) and (id != reviewer_id):\n",
            "<ipython-input-272-696bd3585e88>:14: DeprecationWarning: Call to deprecated `docvecs` (The `docvecs` property has been renamed `dv`.).\n",
            "  if (d2v_model.docvecs.similarity(reviewer_id,id)>0.8) and (documents.helpfulness[id]>0.8) and (id != reviewer_id):\n",
            "<ipython-input-272-696bd3585e88>:14: DeprecationWarning: Call to deprecated `docvecs` (The `docvecs` property has been renamed `dv`.).\n",
            "  if (d2v_model.docvecs.similarity(reviewer_id,id)>0.8) and (documents.helpfulness[id]>0.8) and (id != reviewer_id):\n",
            "<ipython-input-272-696bd3585e88>:14: DeprecationWarning: Call to deprecated `docvecs` (The `docvecs` property has been renamed `dv`.).\n",
            "  if (d2v_model.docvecs.similarity(reviewer_id,id)>0.8) and (documents.helpfulness[id]>0.8) and (id != reviewer_id):\n",
            "<ipython-input-272-696bd3585e88>:14: DeprecationWarning: Call to deprecated `docvecs` (The `docvecs` property has been renamed `dv`.).\n",
            "  if (d2v_model.docvecs.similarity(reviewer_id,id)>0.8) and (documents.helpfulness[id]>0.8) and (id != reviewer_id):\n",
            "<ipython-input-272-696bd3585e88>:14: DeprecationWarning: Call to deprecated `docvecs` (The `docvecs` property has been renamed `dv`.).\n",
            "  if (d2v_model.docvecs.similarity(reviewer_id,id)>0.8) and (documents.helpfulness[id]>0.8) and (id != reviewer_id):\n",
            "<ipython-input-272-696bd3585e88>:14: DeprecationWarning: Call to deprecated `docvecs` (The `docvecs` property has been renamed `dv`.).\n",
            "  if (d2v_model.docvecs.similarity(reviewer_id,id)>0.8) and (documents.helpfulness[id]>0.8) and (id != reviewer_id):\n",
            "<ipython-input-272-696bd3585e88>:14: DeprecationWarning: Call to deprecated `docvecs` (The `docvecs` property has been renamed `dv`.).\n",
            "  if (d2v_model.docvecs.similarity(reviewer_id,id)>0.8) and (documents.helpfulness[id]>0.8) and (id != reviewer_id):\n",
            "<ipython-input-272-696bd3585e88>:14: DeprecationWarning: Call to deprecated `docvecs` (The `docvecs` property has been renamed `dv`.).\n",
            "  if (d2v_model.docvecs.similarity(reviewer_id,id)>0.8) and (documents.helpfulness[id]>0.8) and (id != reviewer_id):\n",
            "<ipython-input-272-696bd3585e88>:14: DeprecationWarning: Call to deprecated `docvecs` (The `docvecs` property has been renamed `dv`.).\n",
            "  if (d2v_model.docvecs.similarity(reviewer_id,id)>0.8) and (documents.helpfulness[id]>0.8) and (id != reviewer_id):\n",
            "<ipython-input-272-696bd3585e88>:14: DeprecationWarning: Call to deprecated `docvecs` (The `docvecs` property has been renamed `dv`.).\n",
            "  if (d2v_model.docvecs.similarity(reviewer_id,id)>0.8) and (documents.helpfulness[id]>0.8) and (id != reviewer_id):\n",
            "<ipython-input-272-696bd3585e88>:14: DeprecationWarning: Call to deprecated `docvecs` (The `docvecs` property has been renamed `dv`.).\n",
            "  if (d2v_model.docvecs.similarity(reviewer_id,id)>0.8) and (documents.helpfulness[id]>0.8) and (id != reviewer_id):\n",
            "<ipython-input-272-696bd3585e88>:14: DeprecationWarning: Call to deprecated `docvecs` (The `docvecs` property has been renamed `dv`.).\n",
            "  if (d2v_model.docvecs.similarity(reviewer_id,id)>0.8) and (documents.helpfulness[id]>0.8) and (id != reviewer_id):\n",
            "<ipython-input-272-696bd3585e88>:14: DeprecationWarning: Call to deprecated `docvecs` (The `docvecs` property has been renamed `dv`.).\n",
            "  if (d2v_model.docvecs.similarity(reviewer_id,id)>0.8) and (documents.helpfulness[id]>0.8) and (id != reviewer_id):\n",
            "<ipython-input-272-696bd3585e88>:14: DeprecationWarning: Call to deprecated `docvecs` (The `docvecs` property has been renamed `dv`.).\n",
            "  if (d2v_model.docvecs.similarity(reviewer_id,id)>0.8) and (documents.helpfulness[id]>0.8) and (id != reviewer_id):\n",
            "<ipython-input-272-696bd3585e88>:14: DeprecationWarning: Call to deprecated `docvecs` (The `docvecs` property has been renamed `dv`.).\n",
            "  if (d2v_model.docvecs.similarity(reviewer_id,id)>0.8) and (documents.helpfulness[id]>0.8) and (id != reviewer_id):\n",
            "<ipython-input-272-696bd3585e88>:14: DeprecationWarning: Call to deprecated `docvecs` (The `docvecs` property has been renamed `dv`.).\n",
            "  if (d2v_model.docvecs.similarity(reviewer_id,id)>0.8) and (documents.helpfulness[id]>0.8) and (id != reviewer_id):\n",
            "<ipython-input-272-696bd3585e88>:14: DeprecationWarning: Call to deprecated `docvecs` (The `docvecs` property has been renamed `dv`.).\n",
            "  if (d2v_model.docvecs.similarity(reviewer_id,id)>0.8) and (documents.helpfulness[id]>0.8) and (id != reviewer_id):\n",
            "<ipython-input-272-696bd3585e88>:14: DeprecationWarning: Call to deprecated `docvecs` (The `docvecs` property has been renamed `dv`.).\n",
            "  if (d2v_model.docvecs.similarity(reviewer_id,id)>0.8) and (documents.helpfulness[id]>0.8) and (id != reviewer_id):\n",
            "<ipython-input-272-696bd3585e88>:14: DeprecationWarning: Call to deprecated `docvecs` (The `docvecs` property has been renamed `dv`.).\n",
            "  if (d2v_model.docvecs.similarity(reviewer_id,id)>0.8) and (documents.helpfulness[id]>0.8) and (id != reviewer_id):\n",
            "<ipython-input-272-696bd3585e88>:14: DeprecationWarning: Call to deprecated `docvecs` (The `docvecs` property has been renamed `dv`.).\n",
            "  if (d2v_model.docvecs.similarity(reviewer_id,id)>0.8) and (documents.helpfulness[id]>0.8) and (id != reviewer_id):\n",
            "<ipython-input-272-696bd3585e88>:14: DeprecationWarning: Call to deprecated `docvecs` (The `docvecs` property has been renamed `dv`.).\n",
            "  if (d2v_model.docvecs.similarity(reviewer_id,id)>0.8) and (documents.helpfulness[id]>0.8) and (id != reviewer_id):\n",
            "<ipython-input-272-696bd3585e88>:14: DeprecationWarning: Call to deprecated `docvecs` (The `docvecs` property has been renamed `dv`.).\n",
            "  if (d2v_model.docvecs.similarity(reviewer_id,id)>0.8) and (documents.helpfulness[id]>0.8) and (id != reviewer_id):\n",
            "<ipython-input-272-696bd3585e88>:14: DeprecationWarning: Call to deprecated `docvecs` (The `docvecs` property has been renamed `dv`.).\n",
            "  if (d2v_model.docvecs.similarity(reviewer_id,id)>0.8) and (documents.helpfulness[id]>0.8) and (id != reviewer_id):\n",
            "<ipython-input-272-696bd3585e88>:14: DeprecationWarning: Call to deprecated `docvecs` (The `docvecs` property has been renamed `dv`.).\n",
            "  if (d2v_model.docvecs.similarity(reviewer_id,id)>0.8) and (documents.helpfulness[id]>0.8) and (id != reviewer_id):\n",
            "<ipython-input-272-696bd3585e88>:14: DeprecationWarning: Call to deprecated `docvecs` (The `docvecs` property has been renamed `dv`.).\n",
            "  if (d2v_model.docvecs.similarity(reviewer_id,id)>0.8) and (documents.helpfulness[id]>0.8) and (id != reviewer_id):\n",
            "<ipython-input-272-696bd3585e88>:14: DeprecationWarning: Call to deprecated `docvecs` (The `docvecs` property has been renamed `dv`.).\n",
            "  if (d2v_model.docvecs.similarity(reviewer_id,id)>0.8) and (documents.helpfulness[id]>0.8) and (id != reviewer_id):\n",
            "<ipython-input-272-696bd3585e88>:14: DeprecationWarning: Call to deprecated `docvecs` (The `docvecs` property has been renamed `dv`.).\n",
            "  if (d2v_model.docvecs.similarity(reviewer_id,id)>0.8) and (documents.helpfulness[id]>0.8) and (id != reviewer_id):\n",
            "<ipython-input-272-696bd3585e88>:14: DeprecationWarning: Call to deprecated `docvecs` (The `docvecs` property has been renamed `dv`.).\n",
            "  if (d2v_model.docvecs.similarity(reviewer_id,id)>0.8) and (documents.helpfulness[id]>0.8) and (id != reviewer_id):\n",
            "<ipython-input-272-696bd3585e88>:14: DeprecationWarning: Call to deprecated `docvecs` (The `docvecs` property has been renamed `dv`.).\n",
            "  if (d2v_model.docvecs.similarity(reviewer_id,id)>0.8) and (documents.helpfulness[id]>0.8) and (id != reviewer_id):\n",
            "<ipython-input-272-696bd3585e88>:14: DeprecationWarning: Call to deprecated `docvecs` (The `docvecs` property has been renamed `dv`.).\n",
            "  if (d2v_model.docvecs.similarity(reviewer_id,id)>0.8) and (documents.helpfulness[id]>0.8) and (id != reviewer_id):\n",
            "<ipython-input-272-696bd3585e88>:14: DeprecationWarning: Call to deprecated `docvecs` (The `docvecs` property has been renamed `dv`.).\n",
            "  if (d2v_model.docvecs.similarity(reviewer_id,id)>0.8) and (documents.helpfulness[id]>0.8) and (id != reviewer_id):\n",
            "<ipython-input-272-696bd3585e88>:14: DeprecationWarning: Call to deprecated `docvecs` (The `docvecs` property has been renamed `dv`.).\n",
            "  if (d2v_model.docvecs.similarity(reviewer_id,id)>0.8) and (documents.helpfulness[id]>0.8) and (id != reviewer_id):\n",
            "<ipython-input-272-696bd3585e88>:14: DeprecationWarning: Call to deprecated `docvecs` (The `docvecs` property has been renamed `dv`.).\n",
            "  if (d2v_model.docvecs.similarity(reviewer_id,id)>0.8) and (documents.helpfulness[id]>0.8) and (id != reviewer_id):\n",
            "<ipython-input-272-696bd3585e88>:14: DeprecationWarning: Call to deprecated `docvecs` (The `docvecs` property has been renamed `dv`.).\n",
            "  if (d2v_model.docvecs.similarity(reviewer_id,id)>0.8) and (documents.helpfulness[id]>0.8) and (id != reviewer_id):\n",
            "<ipython-input-272-696bd3585e88>:14: DeprecationWarning: Call to deprecated `docvecs` (The `docvecs` property has been renamed `dv`.).\n",
            "  if (d2v_model.docvecs.similarity(reviewer_id,id)>0.8) and (documents.helpfulness[id]>0.8) and (id != reviewer_id):\n",
            "<ipython-input-272-696bd3585e88>:14: DeprecationWarning: Call to deprecated `docvecs` (The `docvecs` property has been renamed `dv`.).\n",
            "  if (d2v_model.docvecs.similarity(reviewer_id,id)>0.8) and (documents.helpfulness[id]>0.8) and (id != reviewer_id):\n",
            "<ipython-input-272-696bd3585e88>:14: DeprecationWarning: Call to deprecated `docvecs` (The `docvecs` property has been renamed `dv`.).\n",
            "  if (d2v_model.docvecs.similarity(reviewer_id,id)>0.8) and (documents.helpfulness[id]>0.8) and (id != reviewer_id):\n",
            "<ipython-input-272-696bd3585e88>:14: DeprecationWarning: Call to deprecated `docvecs` (The `docvecs` property has been renamed `dv`.).\n",
            "  if (d2v_model.docvecs.similarity(reviewer_id,id)>0.8) and (documents.helpfulness[id]>0.8) and (id != reviewer_id):\n",
            "<ipython-input-272-696bd3585e88>:14: DeprecationWarning: Call to deprecated `docvecs` (The `docvecs` property has been renamed `dv`.).\n",
            "  if (d2v_model.docvecs.similarity(reviewer_id,id)>0.8) and (documents.helpfulness[id]>0.8) and (id != reviewer_id):\n",
            "<ipython-input-272-696bd3585e88>:14: DeprecationWarning: Call to deprecated `docvecs` (The `docvecs` property has been renamed `dv`.).\n",
            "  if (d2v_model.docvecs.similarity(reviewer_id,id)>0.8) and (documents.helpfulness[id]>0.8) and (id != reviewer_id):\n",
            "<ipython-input-272-696bd3585e88>:14: DeprecationWarning: Call to deprecated `docvecs` (The `docvecs` property has been renamed `dv`.).\n",
            "  if (d2v_model.docvecs.similarity(reviewer_id,id)>0.8) and (documents.helpfulness[id]>0.8) and (id != reviewer_id):\n",
            "<ipython-input-272-696bd3585e88>:14: DeprecationWarning: Call to deprecated `docvecs` (The `docvecs` property has been renamed `dv`.).\n",
            "  if (d2v_model.docvecs.similarity(reviewer_id,id)>0.8) and (documents.helpfulness[id]>0.8) and (id != reviewer_id):\n",
            "<ipython-input-272-696bd3585e88>:14: DeprecationWarning: Call to deprecated `docvecs` (The `docvecs` property has been renamed `dv`.).\n",
            "  if (d2v_model.docvecs.similarity(reviewer_id,id)>0.8) and (documents.helpfulness[id]>0.8) and (id != reviewer_id):\n",
            "<ipython-input-272-696bd3585e88>:14: DeprecationWarning: Call to deprecated `docvecs` (The `docvecs` property has been renamed `dv`.).\n",
            "  if (d2v_model.docvecs.similarity(reviewer_id,id)>0.8) and (documents.helpfulness[id]>0.8) and (id != reviewer_id):\n",
            "<ipython-input-272-696bd3585e88>:14: DeprecationWarning: Call to deprecated `docvecs` (The `docvecs` property has been renamed `dv`.).\n",
            "  if (d2v_model.docvecs.similarity(reviewer_id,id)>0.8) and (documents.helpfulness[id]>0.8) and (id != reviewer_id):\n",
            "<ipython-input-272-696bd3585e88>:14: DeprecationWarning: Call to deprecated `docvecs` (The `docvecs` property has been renamed `dv`.).\n",
            "  if (d2v_model.docvecs.similarity(reviewer_id,id)>0.8) and (documents.helpfulness[id]>0.8) and (id != reviewer_id):\n",
            "<ipython-input-272-696bd3585e88>:14: DeprecationWarning: Call to deprecated `docvecs` (The `docvecs` property has been renamed `dv`.).\n",
            "  if (d2v_model.docvecs.similarity(reviewer_id,id)>0.8) and (documents.helpfulness[id]>0.8) and (id != reviewer_id):\n",
            "<ipython-input-272-696bd3585e88>:14: DeprecationWarning: Call to deprecated `docvecs` (The `docvecs` property has been renamed `dv`.).\n",
            "  if (d2v_model.docvecs.similarity(reviewer_id,id)>0.8) and (documents.helpfulness[id]>0.8) and (id != reviewer_id):\n",
            "<ipython-input-272-696bd3585e88>:14: DeprecationWarning: Call to deprecated `docvecs` (The `docvecs` property has been renamed `dv`.).\n",
            "  if (d2v_model.docvecs.similarity(reviewer_id,id)>0.8) and (documents.helpfulness[id]>0.8) and (id != reviewer_id):\n",
            "<ipython-input-272-696bd3585e88>:14: DeprecationWarning: Call to deprecated `docvecs` (The `docvecs` property has been renamed `dv`.).\n",
            "  if (d2v_model.docvecs.similarity(reviewer_id,id)>0.8) and (documents.helpfulness[id]>0.8) and (id != reviewer_id):\n",
            "<ipython-input-272-696bd3585e88>:14: DeprecationWarning: Call to deprecated `docvecs` (The `docvecs` property has been renamed `dv`.).\n",
            "  if (d2v_model.docvecs.similarity(reviewer_id,id)>0.8) and (documents.helpfulness[id]>0.8) and (id != reviewer_id):\n",
            "<ipython-input-272-696bd3585e88>:14: DeprecationWarning: Call to deprecated `docvecs` (The `docvecs` property has been renamed `dv`.).\n",
            "  if (d2v_model.docvecs.similarity(reviewer_id,id)>0.8) and (documents.helpfulness[id]>0.8) and (id != reviewer_id):\n",
            "<ipython-input-272-696bd3585e88>:14: DeprecationWarning: Call to deprecated `docvecs` (The `docvecs` property has been renamed `dv`.).\n",
            "  if (d2v_model.docvecs.similarity(reviewer_id,id)>0.8) and (documents.helpfulness[id]>0.8) and (id != reviewer_id):\n",
            "<ipython-input-272-696bd3585e88>:14: DeprecationWarning: Call to deprecated `docvecs` (The `docvecs` property has been renamed `dv`.).\n",
            "  if (d2v_model.docvecs.similarity(reviewer_id,id)>0.8) and (documents.helpfulness[id]>0.8) and (id != reviewer_id):\n",
            "<ipython-input-272-696bd3585e88>:14: DeprecationWarning: Call to deprecated `docvecs` (The `docvecs` property has been renamed `dv`.).\n",
            "  if (d2v_model.docvecs.similarity(reviewer_id,id)>0.8) and (documents.helpfulness[id]>0.8) and (id != reviewer_id):\n",
            "<ipython-input-272-696bd3585e88>:14: DeprecationWarning: Call to deprecated `docvecs` (The `docvecs` property has been renamed `dv`.).\n",
            "  if (d2v_model.docvecs.similarity(reviewer_id,id)>0.8) and (documents.helpfulness[id]>0.8) and (id != reviewer_id):\n",
            "<ipython-input-272-696bd3585e88>:14: DeprecationWarning: Call to deprecated `docvecs` (The `docvecs` property has been renamed `dv`.).\n",
            "  if (d2v_model.docvecs.similarity(reviewer_id,id)>0.8) and (documents.helpfulness[id]>0.8) and (id != reviewer_id):\n",
            "<ipython-input-272-696bd3585e88>:14: DeprecationWarning: Call to deprecated `docvecs` (The `docvecs` property has been renamed `dv`.).\n",
            "  if (d2v_model.docvecs.similarity(reviewer_id,id)>0.8) and (documents.helpfulness[id]>0.8) and (id != reviewer_id):\n",
            "<ipython-input-272-696bd3585e88>:14: DeprecationWarning: Call to deprecated `docvecs` (The `docvecs` property has been renamed `dv`.).\n",
            "  if (d2v_model.docvecs.similarity(reviewer_id,id)>0.8) and (documents.helpfulness[id]>0.8) and (id != reviewer_id):\n",
            "<ipython-input-272-696bd3585e88>:14: DeprecationWarning: Call to deprecated `docvecs` (The `docvecs` property has been renamed `dv`.).\n",
            "  if (d2v_model.docvecs.similarity(reviewer_id,id)>0.8) and (documents.helpfulness[id]>0.8) and (id != reviewer_id):\n",
            "<ipython-input-272-696bd3585e88>:14: DeprecationWarning: Call to deprecated `docvecs` (The `docvecs` property has been renamed `dv`.).\n",
            "  if (d2v_model.docvecs.similarity(reviewer_id,id)>0.8) and (documents.helpfulness[id]>0.8) and (id != reviewer_id):\n",
            "<ipython-input-272-696bd3585e88>:14: DeprecationWarning: Call to deprecated `docvecs` (The `docvecs` property has been renamed `dv`.).\n",
            "  if (d2v_model.docvecs.similarity(reviewer_id,id)>0.8) and (documents.helpfulness[id]>0.8) and (id != reviewer_id):\n",
            "<ipython-input-272-696bd3585e88>:14: DeprecationWarning: Call to deprecated `docvecs` (The `docvecs` property has been renamed `dv`.).\n",
            "  if (d2v_model.docvecs.similarity(reviewer_id,id)>0.8) and (documents.helpfulness[id]>0.8) and (id != reviewer_id):\n",
            "<ipython-input-272-696bd3585e88>:14: DeprecationWarning: Call to deprecated `docvecs` (The `docvecs` property has been renamed `dv`.).\n",
            "  if (d2v_model.docvecs.similarity(reviewer_id,id)>0.8) and (documents.helpfulness[id]>0.8) and (id != reviewer_id):\n",
            "<ipython-input-272-696bd3585e88>:14: DeprecationWarning: Call to deprecated `docvecs` (The `docvecs` property has been renamed `dv`.).\n",
            "  if (d2v_model.docvecs.similarity(reviewer_id,id)>0.8) and (documents.helpfulness[id]>0.8) and (id != reviewer_id):\n",
            "<ipython-input-272-696bd3585e88>:14: DeprecationWarning: Call to deprecated `docvecs` (The `docvecs` property has been renamed `dv`.).\n",
            "  if (d2v_model.docvecs.similarity(reviewer_id,id)>0.8) and (documents.helpfulness[id]>0.8) and (id != reviewer_id):\n",
            "<ipython-input-272-696bd3585e88>:14: DeprecationWarning: Call to deprecated `docvecs` (The `docvecs` property has been renamed `dv`.).\n",
            "  if (d2v_model.docvecs.similarity(reviewer_id,id)>0.8) and (documents.helpfulness[id]>0.8) and (id != reviewer_id):\n",
            "<ipython-input-272-696bd3585e88>:14: DeprecationWarning: Call to deprecated `docvecs` (The `docvecs` property has been renamed `dv`.).\n",
            "  if (d2v_model.docvecs.similarity(reviewer_id,id)>0.8) and (documents.helpfulness[id]>0.8) and (id != reviewer_id):\n",
            "<ipython-input-272-696bd3585e88>:14: DeprecationWarning: Call to deprecated `docvecs` (The `docvecs` property has been renamed `dv`.).\n",
            "  if (d2v_model.docvecs.similarity(reviewer_id,id)>0.8) and (documents.helpfulness[id]>0.8) and (id != reviewer_id):\n",
            "<ipython-input-272-696bd3585e88>:14: DeprecationWarning: Call to deprecated `docvecs` (The `docvecs` property has been renamed `dv`.).\n",
            "  if (d2v_model.docvecs.similarity(reviewer_id,id)>0.8) and (documents.helpfulness[id]>0.8) and (id != reviewer_id):\n",
            "<ipython-input-272-696bd3585e88>:14: DeprecationWarning: Call to deprecated `docvecs` (The `docvecs` property has been renamed `dv`.).\n",
            "  if (d2v_model.docvecs.similarity(reviewer_id,id)>0.8) and (documents.helpfulness[id]>0.8) and (id != reviewer_id):\n",
            "<ipython-input-272-696bd3585e88>:14: DeprecationWarning: Call to deprecated `docvecs` (The `docvecs` property has been renamed `dv`.).\n",
            "  if (d2v_model.docvecs.similarity(reviewer_id,id)>0.8) and (documents.helpfulness[id]>0.8) and (id != reviewer_id):\n",
            "<ipython-input-272-696bd3585e88>:14: DeprecationWarning: Call to deprecated `docvecs` (The `docvecs` property has been renamed `dv`.).\n",
            "  if (d2v_model.docvecs.similarity(reviewer_id,id)>0.8) and (documents.helpfulness[id]>0.8) and (id != reviewer_id):\n",
            "<ipython-input-272-696bd3585e88>:14: DeprecationWarning: Call to deprecated `docvecs` (The `docvecs` property has been renamed `dv`.).\n",
            "  if (d2v_model.docvecs.similarity(reviewer_id,id)>0.8) and (documents.helpfulness[id]>0.8) and (id != reviewer_id):\n",
            "<ipython-input-272-696bd3585e88>:14: DeprecationWarning: Call to deprecated `docvecs` (The `docvecs` property has been renamed `dv`.).\n",
            "  if (d2v_model.docvecs.similarity(reviewer_id,id)>0.8) and (documents.helpfulness[id]>0.8) and (id != reviewer_id):\n",
            "<ipython-input-272-696bd3585e88>:14: DeprecationWarning: Call to deprecated `docvecs` (The `docvecs` property has been renamed `dv`.).\n",
            "  if (d2v_model.docvecs.similarity(reviewer_id,id)>0.8) and (documents.helpfulness[id]>0.8) and (id != reviewer_id):\n",
            "<ipython-input-272-696bd3585e88>:14: DeprecationWarning: Call to deprecated `docvecs` (The `docvecs` property has been renamed `dv`.).\n",
            "  if (d2v_model.docvecs.similarity(reviewer_id,id)>0.8) and (documents.helpfulness[id]>0.8) and (id != reviewer_id):\n",
            "<ipython-input-272-696bd3585e88>:14: DeprecationWarning: Call to deprecated `docvecs` (The `docvecs` property has been renamed `dv`.).\n",
            "  if (d2v_model.docvecs.similarity(reviewer_id,id)>0.8) and (documents.helpfulness[id]>0.8) and (id != reviewer_id):\n",
            "<ipython-input-272-696bd3585e88>:14: DeprecationWarning: Call to deprecated `docvecs` (The `docvecs` property has been renamed `dv`.).\n",
            "  if (d2v_model.docvecs.similarity(reviewer_id,id)>0.8) and (documents.helpfulness[id]>0.8) and (id != reviewer_id):\n",
            "<ipython-input-272-696bd3585e88>:14: DeprecationWarning: Call to deprecated `docvecs` (The `docvecs` property has been renamed `dv`.).\n",
            "  if (d2v_model.docvecs.similarity(reviewer_id,id)>0.8) and (documents.helpfulness[id]>0.8) and (id != reviewer_id):\n",
            "<ipython-input-272-696bd3585e88>:14: DeprecationWarning: Call to deprecated `docvecs` (The `docvecs` property has been renamed `dv`.).\n",
            "  if (d2v_model.docvecs.similarity(reviewer_id,id)>0.8) and (documents.helpfulness[id]>0.8) and (id != reviewer_id):\n",
            "<ipython-input-272-696bd3585e88>:14: DeprecationWarning: Call to deprecated `docvecs` (The `docvecs` property has been renamed `dv`.).\n",
            "  if (d2v_model.docvecs.similarity(reviewer_id,id)>0.8) and (documents.helpfulness[id]>0.8) and (id != reviewer_id):\n",
            "<ipython-input-272-696bd3585e88>:14: DeprecationWarning: Call to deprecated `docvecs` (The `docvecs` property has been renamed `dv`.).\n",
            "  if (d2v_model.docvecs.similarity(reviewer_id,id)>0.8) and (documents.helpfulness[id]>0.8) and (id != reviewer_id):\n",
            "<ipython-input-272-696bd3585e88>:14: DeprecationWarning: Call to deprecated `docvecs` (The `docvecs` property has been renamed `dv`.).\n",
            "  if (d2v_model.docvecs.similarity(reviewer_id,id)>0.8) and (documents.helpfulness[id]>0.8) and (id != reviewer_id):\n"
          ]
        }
      ],
      "source": [
        "print(find_similar_reviews(\"B00006I5WJ\", \"A14453U0KFWF31\")) "
      ]
    },
    {
      "cell_type": "markdown",
      "metadata": {
        "id": "MX0rg-0AVPM-"
      },
      "source": [
        "**So the top 5 helpful reviewers' id of the same product with similarity score above 0.8 are 'A1ZJSYEQQDIDAA', 'A5C7KD02LS69I', 'A1MSY5U64K1Y3D', 'A3GTQ229J3PFN8', 'A3I4TQNEO4G6LT' respectively.**"
      ]
    },
    {
      "cell_type": "markdown",
      "metadata": {
        "id": "6KIVR0OodJbc"
      },
      "source": [
        "## 2.4 Build a doc2vec model using product descriptions\n"
      ]
    },
    {
      "cell_type": "markdown",
      "metadata": {
        "id": "6aP5_XP5dO2i"
      },
      "source": [
        "**[10pts]2.4.1** Use product descriptions (located in meta data  [here](http://snap.stanford.edu/data/amazon/productGraph/categoryFiles/meta_Electronics.json.gz)) to build a Doc2Vec model. When building the doc2vec model, use vector_size=100, window=15, min_count=5, max_vocab_size=1000, and train it for 1 epoch."
      ]
    },
    {
      "cell_type": "code",
      "execution_count": null,
      "metadata": {
        "ExecuteTime": {
          "end_time": "2023-02-27T00:51:49.158142Z",
          "start_time": "2023-02-27T00:51:49.153492Z"
        },
        "id": "6j9r0LvidJ7V",
        "outputId": "18ca1df2-fcc9-4576-a911-1b34908f1bad"
      },
      "outputs": [
        {
          "name": "stderr",
          "output_type": "stream",
          "text": [
            "/Users/wangsixuan/opt/anaconda3/lib/python3.8/site-packages/ipykernel/ipkernel.py:287: DeprecationWarning: `should_run_async` will not call `transform_cell` automatically in the future. Please pass the result to `transformed_cell` argument and any exception that happen during thetransform in `preprocessing_exc_tuple` in IPython 7.17 and above.\n",
            "  and should_run_async(code)\n"
          ]
        }
      ],
      "source": [
        "def read_product_description(fname):\n",
        "    '''\n",
        "    Load all product descriptions\n",
        "    Args: \n",
        "        fname: dataset file path\n",
        "    Returns:\n",
        "        dict: key is asin, value is description content\n",
        "    '''\n",
        "    result = {}\n",
        "    for i in parse(fname):\n",
        "        try:\n",
        "            if \"Camera & Photo\" in i[\"categories\"][0]:\n",
        "                result[i[\"asin\"]]=i[\"description\"]\n",
        "        except:\n",
        "            continue\n",
        "    return result"
      ]
    },
    {
      "cell_type": "code",
      "execution_count": null,
      "metadata": {
        "ExecuteTime": {
          "end_time": "2023-02-27T00:51:50.273010Z",
          "start_time": "2023-02-27T00:51:50.268392Z"
        },
        "id": "XrSISgv3df6_",
        "outputId": "ed2788e1-9523-43d0-db63-ac06b2f1914c"
      },
      "outputs": [
        {
          "name": "stderr",
          "output_type": "stream",
          "text": [
            "/Users/wangsixuan/opt/anaconda3/lib/python3.8/site-packages/ipykernel/ipkernel.py:287: DeprecationWarning: `should_run_async` will not call `transform_cell` automatically in the future. Please pass the result to `transformed_cell` argument and any exception that happen during thetransform in `preprocessing_exc_tuple` in IPython 7.17 and above.\n",
            "  and should_run_async(code)\n"
          ]
        }
      ],
      "source": [
        "class TaggedDescriptionDocument(object):\n",
        "    '''\n",
        "    This class could save all products and review information in its dictionary and generate iter for TaggedDocument\n",
        "        which could used for Doc2Vec model\n",
        "    '''\n",
        "    def __init__(self, descriptondict):\n",
        "        self.descriptondict = descriptondict\n",
        "        \n",
        "\n",
        "    def __iter__(self):\n",
        "        for asin in self.descriptondict:\n",
        "            for content in self.descriptondict[asin]:\n",
        "                yield TaggedDocument(clean_line(content), [asin])\n"
      ]
    },
    {
      "cell_type": "code",
      "execution_count": null,
      "metadata": {
        "ExecuteTime": {
          "end_time": "2023-02-27T00:53:03.596578Z",
          "start_time": "2023-02-27T00:52:16.251781Z"
        },
        "id": "yTRwOCtldinm",
        "outputId": "f3ee8aac-48d9-420d-c687-17c0b9b49e44"
      },
      "outputs": [
        {
          "name": "stderr",
          "output_type": "stream",
          "text": [
            "/Users/wangsixuan/opt/anaconda3/lib/python3.8/site-packages/ipykernel/ipkernel.py:287: DeprecationWarning: `should_run_async` will not call `transform_cell` automatically in the future. Please pass the result to `transformed_cell` argument and any exception that happen during thetransform in `preprocessing_exc_tuple` in IPython 7.17 and above.\n",
            "  and should_run_async(code)\n"
          ]
        }
      ],
      "source": [
        "description_dict = read_product_description(\"meta_Electronics.json.gz\")\n",
        "des_documents = TaggedDescriptionDocument(description_dict)"
      ]
    },
    {
      "cell_type": "code",
      "execution_count": null,
      "metadata": {
        "id": "9AxerpO-Vh93"
      },
      "outputs": [],
      "source": [
        "# Build a doc2vec model\n",
        "d2v_model2 = Doc2Vec(vector_size=100, window=15, min_count=5, max_vocab_size=1000)\n",
        "d2v_model2.build_vocab(des_documents)\n",
        "d2v_model2.train(des_documents, total_examples=d2v_model2.corpus_count, epochs=1)"
      ]
    },
    {
      "cell_type": "code",
      "execution_count": null,
      "metadata": {
        "ExecuteTime": {
          "end_time": "2023-02-26T04:56:25.960918Z",
          "start_time": "2023-02-26T04:56:25.268665Z"
        },
        "id": "qSnn4DPaTtp9",
        "outputId": "3423e3f3-3e12-4d7a-d347-6366ff840c1d"
      },
      "outputs": [
        {
          "name": "stderr",
          "output_type": "stream",
          "text": [
            "/Users/wangsixuan/opt/anaconda3/lib/python3.8/site-packages/ipykernel/ipkernel.py:287: DeprecationWarning: `should_run_async` will not call `transform_cell` automatically in the future. Please pass the result to `transformed_cell` argument and any exception that happen during thetransform in `preprocessing_exc_tuple` in IPython 7.17 and above.\n",
            "  and should_run_async(code)\n"
          ]
        }
      ],
      "source": [
        "d2v_model2.save(\"d2v_model2.model\")"
      ]
    },
    {
      "cell_type": "code",
      "execution_count": null,
      "metadata": {
        "ExecuteTime": {
          "end_time": "2023-02-27T00:51:39.635461Z",
          "start_time": "2023-02-27T00:51:39.556655Z"
        },
        "id": "A2VMoqk6Ttp9",
        "outputId": "be75eafb-3f88-4535-9fed-98a381563aea",
        "scrolled": true
      },
      "outputs": [
        {
          "name": "stderr",
          "output_type": "stream",
          "text": [
            "/Users/wangsixuan/opt/anaconda3/lib/python3.8/site-packages/ipykernel/ipkernel.py:287: DeprecationWarning: `should_run_async` will not call `transform_cell` automatically in the future. Please pass the result to `transformed_cell` argument and any exception that happen during thetransform in `preprocessing_exc_tuple` in IPython 7.17 and above.\n",
            "  and should_run_async(code)\n"
          ]
        }
      ],
      "source": [
        "d2v_model2=gensim.models.Doc2Vec.load(\"d2v_model2.model\")"
      ]
    },
    {
      "cell_type": "markdown",
      "metadata": {
        "id": "pvwRTr6ueRS4"
      },
      "source": [
        "**[5pts]2.4.2** Find the most similar product for Canon EOS 5D (asin:B0007Y791C) not made by Canon."
      ]
    },
    {
      "cell_type": "code",
      "execution_count": null,
      "metadata": {
        "ExecuteTime": {
          "end_time": "2023-02-27T00:53:35.780626Z",
          "start_time": "2023-02-27T00:53:35.769900Z"
        },
        "id": "qcxOTnKvTtp-",
        "outputId": "3360d50f-c240-4eaa-bbaa-71f4d18bcd7b"
      },
      "outputs": [
        {
          "name": "stdout",
          "output_type": "stream",
          "text": [
            "('B001BP1YEE', 0.4226471781730652)\n",
            "Why Choose? Why Settle? Introducing the New Kata 3N1!Why choose between a backpack and a sling when you simply can pick up one of the new Kata 3N1 bags and get the best features of each type of bag? These unique bags provide ultimate freedom designed with three carrying options in one bag: right-handed sling, left-handed sling and backpack. Quick access to a camera has never been faster with a sling that offers a quick release and one-handed bag opening for camera access. Left-handed photographers can celebrate as they discover the first photo bag that can be configured as a left-handed sling. When not in a situation that requires quick camera access, convert the 3N1 into an ergonomic and comfortable backpack. All these product features come in a package that includes the unique combination of protection, light weight and style that has become Kata&#x92;s calling card.Kata 3NI HighlightsFlexible Configurations to Ensure Maximum UseUse both as a sling and backpackAs a photographer, you choose a sling for the ability to gain quick access to your camera in shooting situations. A backpack is key for carrying your equipment long distances without straining your back. Finally, there is a bag that offers the best of both worlds in one sleek design. By including two padded straps that can be easily hidden, you decide which product configuration works best for you. Large sturdy strap buckles make it easy to quickly convert your 3N1 from a right-handed sling to a left-handed sling or a backpack. A waist strap is included to provide maximum comfort to your back when using the 3N1 in backpack mode. You no longer have to decide which camera bag to bring with you into the field. Load up your 3N1 and you are set for all photgraphic situations.Uses Thermal Shield Technology to ensure maximum protectionSuperior Protection for Your DSLRSuperior protection is key to the Kata design philosophy. The creation of TST (Thermal Shield Technology) is a physical expression of this philosophy. TST is modeled to create protective zones where your camera will most likely be impacted. Impact force is distributed to ensure that your camera remains safe and always ready for that important scene or shot. The 3N1 is also designed with reinforced corners to ensure that when in sling mode, the bag holds its shape to ensure your camera does not fall out.Fast, One Handed Camera Access with Quick Release BuckleWhen in sling mode, quick access to your camera is provided via a quick release clip with single pull opening of the camera compartment door. Pinch the clip and pull and the zippers easily slide to offer one-handed access to your camera. Easy access means you are always ready when the action happens and need to capture that perfect shot on the fly.Rain Cover Provides All-Weather ProtectionIncluded with each 3N1 model is a sturdy all-weather rain cover. You never know when Mother Nature will throw you a curve and you need to be prepared. This rain cover wraps around your entire sling / backpack ensuring that your valuable gear is protected. The bright color also reflects sunlight to keep your rucksack and sensitive digital equipment cooler in hot locations.Optional InserTrolley (KT VG-DTS) for Easy TravelingBoth the 3N1-20 and 3N1-30 have a sleeve for use with the Kata InserTrolley (Model KT VG-DTS) or most luggage trolleys. This allows for easy transport of your camera. While connected to the trolley, your camera remains fully accessible. The Kata Insertrolley can be folded for easy storage when not in use. Kata's patented extendable wheel system provides better stabilization when wheeling your 3N1 bag.Ensure you find the right fit for your camera\n",
            "('B007C5LRGC', 0.41753923892974854)\n",
            "MOD classic straps are designer/boutique straps, for both SLR cameras, both digital and film. Their unique designs stand out from the crowd of plain, black, synthetic looking products that dominate the strap category. Classic straps are cut from the best fabrics available, and are backed with a soft \"minky\" backing. Strong connector ends on the Classic straps make these straps a must have for the fashionable photographer who needs strength and quality.  All MOD products are  manufactured in the USA, deep in the heart of Texas.\n",
            "('B000MSZQQI', 0.41364672780036926)\n",
            "Specifically designed for Panasonic cameras, the Rock-DVX combines the  finest degree of zoom control with the type of wide-sweep rocker favored by broadcast  operators. The result is an easy-to-use, effective means of achieving smooth, sustainable  zooms. Details include a compact, intuitive design; a pressure-sensitive, side-by-side  rocker switch; and a low-profile record/pause button. Offering a greater range of motion  than most zoom controls, the Rock-DVX is compatible with the Panasonic DVX100,  DVX100A, DVX100B, HVX200, DVC30, DVC60, and DVC80 cameras.FeaturesMaterial: ABS plasticCompatibility: DVX100, DVX100A, DVX100B, HVX200, DVC30, DVC60, and  DVC80Dimensions: 2 by 2.75 inchesMax clamp diameter: 1.25 inchesCord length: 40 inchesWeight: 0.25 poundsWarranty: 2 years parts and labor\n"
          ]
        },
        {
          "name": "stderr",
          "output_type": "stream",
          "text": [
            "/Users/wangsixuan/opt/anaconda3/lib/python3.8/site-packages/ipykernel/ipkernel.py:287: DeprecationWarning: `should_run_async` will not call `transform_cell` automatically in the future. Please pass the result to `transformed_cell` argument and any exception that happen during thetransform in `preprocessing_exc_tuple` in IPython 7.17 and above.\n",
            "  and should_run_async(code)\n",
            "<ipython-input-19-9ded70ea196e>:1: DeprecationWarning: Call to deprecated `docvecs` (The `docvecs` property has been renamed `dv`.).\n",
            "  similar_doc = d2v_model2.docvecs.most_similar('B0007Y791C', topn = 30)\n"
          ]
        }
      ],
      "source": [
        "similar_doc = d2v_model2.docvecs.most_similar('B0007Y791C', topn = 30)\n",
        "products=similar_doc[:3]\n",
        "for product in products:\n",
        "    print(product)\n",
        "    print(des_documents.descriptondict[product[0]])"
      ]
    },
    {
      "cell_type": "markdown",
      "source": [
        "From the most similar product descriptions, we can conclude that New Kata 3N1 is the most similar product for Canon EOS 5D."
      ],
      "metadata": {
        "id": "ywB-mNvvXse6"
      }
    }
  ],
  "metadata": {
    "colab": {
      "provenance": []
    },
    "hide_input": false,
    "kernelspec": {
      "display_name": "Python 3",
      "language": "python",
      "name": "python3"
    },
    "language_info": {
      "codemirror_mode": {
        "name": "ipython",
        "version": 3
      },
      "file_extension": ".py",
      "mimetype": "text/x-python",
      "name": "python",
      "nbconvert_exporter": "python",
      "pygments_lexer": "ipython3",
      "version": "3.8.11"
    },
    "toc": {
      "base_numbering": 1,
      "nav_menu": {},
      "number_sections": true,
      "sideBar": true,
      "skip_h1_title": false,
      "title_cell": "Table of Contents",
      "title_sidebar": "Contents",
      "toc_cell": false,
      "toc_position": {},
      "toc_section_display": true,
      "toc_window_display": false
    }
  },
  "nbformat": 4,
  "nbformat_minor": 0
}